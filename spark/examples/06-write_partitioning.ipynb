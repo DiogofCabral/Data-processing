{
  "cells": [
    {
      "cell_type": "markdown",
      "metadata": {
        "id": "view-in-github",
        "colab_type": "text"
      },
      "source": [
        "<a href=\"https://colab.research.google.com/github/DiogofCabral/Data-processing/blob/main/spark/examples/06-write_partitioning.ipynb\" target=\"_parent\"><img src=\"https://colab.research.google.com/assets/colab-badge.svg\" alt=\"Open In Colab\"/></a>"
      ]
    },
    {
      "cell_type": "markdown",
      "metadata": {
        "id": "BOA_wQSmLd9z"
      },
      "source": [
        "# Write\n",
        "- .write\n",
        "- .format (parquet, csv, json)\n",
        "- options\n",
        "- spark.sql.sources.partitionOverwriteMode dynamic\n",
        "\n",
        "# Write Mode\n",
        "- overwrite - The overwrite mode is used to overwrite the existing file, alternatively, you can use SaveMode.Overwrite\n",
        "- append - To add the data to the existing file, alternatively, you can use SaveMode.Append\n",
        "- ignore - Ignores write operation when the file already exists, alternatively, you can use SaveMode.Ignore.\n",
        "- errorifexists or error - This is a default option when the file already exists, it returns an error, alternatively, you can use SaveMode.ErrorIfExists.\n",
        "\n",
        "# Partitioning\n",
        "Process to organize the data into multiple chunks based on some criteria.\n",
        "Partitions are organized in sub-folders.\n",
        "Partitioning improves performance in Spark."
      ]
    },
    {
      "cell_type": "markdown",
      "metadata": {
        "id": "d9LeYFsPTjAb"
      },
      "source": [
        "# Setting up PySpark"
      ]
    },
    {
      "cell_type": "code",
      "execution_count": 1,
      "metadata": {
        "colab": {
          "base_uri": "https://localhost:8080/"
        },
        "id": "uYXeODL0T1fO",
        "outputId": "cc1a34f3-f5b9-4863-9cce-8cbf411ee4df"
      },
      "outputs": [
        {
          "output_type": "stream",
          "name": "stdout",
          "text": [
            "Requirement already satisfied: pyspark in /usr/local/lib/python3.10/dist-packages (3.5.3)\n",
            "Requirement already satisfied: py4j==0.10.9.7 in /usr/local/lib/python3.10/dist-packages (from pyspark) (0.10.9.7)\n"
          ]
        }
      ],
      "source": [
        "%pip install pyspark"
      ]
    },
    {
      "cell_type": "code",
      "execution_count": 2,
      "metadata": {
        "id": "637HFw00T3LP"
      },
      "outputs": [],
      "source": [
        "from pyspark.sql import SparkSession\n",
        "spark = SparkSession.builder.master('local').appName('Spark Course').getOrCreate()"
      ]
    },
    {
      "cell_type": "markdown",
      "metadata": {
        "id": "Vj3Cg2riVX3m"
      },
      "source": [
        "# Preparing data"
      ]
    },
    {
      "cell_type": "code",
      "source": [
        "!pip install faker"
      ],
      "metadata": {
        "colab": {
          "base_uri": "https://localhost:8080/"
        },
        "id": "83BBHcNJDmw4",
        "outputId": "ac6dc0d0-8b37-4f3e-ee43-e4de294ff3f1"
      },
      "execution_count": 3,
      "outputs": [
        {
          "output_type": "stream",
          "name": "stdout",
          "text": [
            "Collecting faker\n",
            "  Downloading Faker-33.0.0-py3-none-any.whl.metadata (15 kB)\n",
            "Requirement already satisfied: python-dateutil>=2.4 in /usr/local/lib/python3.10/dist-packages (from faker) (2.8.2)\n",
            "Requirement already satisfied: typing-extensions in /usr/local/lib/python3.10/dist-packages (from faker) (4.12.2)\n",
            "Requirement already satisfied: six>=1.5 in /usr/local/lib/python3.10/dist-packages (from python-dateutil>=2.4->faker) (1.16.0)\n",
            "Downloading Faker-33.0.0-py3-none-any.whl (1.9 MB)\n",
            "\u001b[?25l   \u001b[90m━━━━━━━━━━━━━━━━━━━━━━━━━━━━━━━━━━━━━━━━\u001b[0m \u001b[32m0.0/1.9 MB\u001b[0m \u001b[31m?\u001b[0m eta \u001b[36m-:--:--\u001b[0m\r\u001b[2K   \u001b[91m━━━\u001b[0m\u001b[90m╺\u001b[0m\u001b[90m━━━━━━━━━━━━━━━━━━━━━━━━━━━━━━━━━━━━\u001b[0m \u001b[32m0.1/1.9 MB\u001b[0m \u001b[31m7.1 MB/s\u001b[0m eta \u001b[36m0:00:01\u001b[0m\r\u001b[2K   \u001b[91m━━━━━━━━━━━━━━━━━━━━━━━━━━━━━━━━━━━━━━━\u001b[0m\u001b[91m╸\u001b[0m \u001b[32m1.9/1.9 MB\u001b[0m \u001b[31m28.5 MB/s\u001b[0m eta \u001b[36m0:00:01\u001b[0m\r\u001b[2K   \u001b[90m━━━━━━━━━━━━━━━━━━━━━━━━━━━━━━━━━━━━━━━━\u001b[0m \u001b[32m1.9/1.9 MB\u001b[0m \u001b[31m21.0 MB/s\u001b[0m eta \u001b[36m0:00:00\u001b[0m\n",
            "\u001b[?25hInstalling collected packages: faker\n",
            "Successfully installed faker-33.0.0\n"
          ]
        }
      ]
    },
    {
      "cell_type": "code",
      "execution_count": 4,
      "metadata": {
        "id": "z-caHS2MVX3m",
        "colab": {
          "base_uri": "https://localhost:8080/"
        },
        "outputId": "dcf3cff9-f866-44c5-bf63-89e192bfb534"
      },
      "outputs": [
        {
          "output_type": "stream",
          "name": "stdout",
          "text": [
            "+---------------------------------------------------------+--------------------------+----------+-------------------------+-------------------+---------------------+\n",
            "|address                                                  |date                      |dob       |email                    |name               |phone                |\n",
            "+---------------------------------------------------------+--------------------------+----------+-------------------------+-------------------+---------------------+\n",
            "|445 Sandy Lodge Apt. 016\\nPort Carlosside, MN 30619      |2024-05-04 00:58:58.833235|1916-02-11|leah29@example.org       |Kristina Ross      |(450)911-1482        |\n",
            "|611 Tracy Center\\nMichaelmouth, TX 57404                 |2024-05-01 00:49:04.421481|1911-04-15|wtran@example.net        |Matthew Matthews   |(253)278-3661x732    |\n",
            "|499 Jennifer Points\\nSouth Kimberlyport, MP 11051        |2024-05-03 19:42:19.835249|1965-04-20|zrodriguez@example.net   |Elizabeth Hernandez|+1-222-382-1079x2517 |\n",
            "|69497 Ward Lodge Suite 639\\nEast Patrickborough, NC 76804|2024-05-04 14:23:43.058211|1932-12-08|qgordon@example.net      |Sarah Perez        |384.573.6871         |\n",
            "|036 David Center Apt. 611\\nSouth Jessestad, MS 39219     |2024-05-01 01:35:33.368358|1939-04-09|timothy05@example.net    |Michael Brady      |001-429-261-6248x3818|\n",
            "|998 Montgomery Forges\\nLake Kim, NY 28454                |2024-05-01 12:07:40.336992|2021-10-16|smithsuzanne@example.org |Maria Hill         |293.426.9042x512     |\n",
            "|341 Christopher Mountains\\nEast Robert, IN 76506         |2024-05-01 20:20:54.45081 |1923-11-10|hoffmanjames@example.org |Samuel Roberts     |906-363-2661         |\n",
            "|6436 Carpenter Hill\\nRileymouth, OH 03624                |2024-05-02 19:10:58.233953|1917-09-07|robinsonsteve@example.com|Pamela Adams       |+1-920-904-9289      |\n",
            "|6115 Heather Islands\\nEast Joshuaside, NH 49827          |2024-05-03 21:37:15.875903|1986-10-07|dscott@example.org       |Richard Hamilton   |(308)578-9786x769    |\n",
            "|171 Christopher Plain Apt. 362\\nNorth Dustin, VA 43868   |2024-05-04 15:25:23.229922|1955-07-04|nknight@example.org      |James Collins      |535.412.0569x4969    |\n",
            "+---------------------------------------------------------+--------------------------+----------+-------------------------+-------------------+---------------------+\n",
            "only showing top 10 rows\n",
            "\n"
          ]
        }
      ],
      "source": [
        "from faker import Faker\n",
        "from datetime import datetime\n",
        "\n",
        "fake = Faker()\n",
        "\n",
        "users = []\n",
        "for _ in range(50):\n",
        "    user = {\n",
        "        'date': fake.date_time_between_dates(datetime(2024, 5, 1), datetime(2024, 5, 5)),\n",
        "        'name': fake.name(),\n",
        "        'address': fake.address(),\n",
        "        'email': fake.email(),\n",
        "        'dob': fake.date_of_birth(),\n",
        "        'phone': fake.phone_number()\n",
        "    }\n",
        "    users.append(user)\n",
        "\n",
        "df = spark.createDataFrame(users)\n",
        "\n",
        "df.show(10, False)\n"
      ]
    },
    {
      "cell_type": "markdown",
      "metadata": {
        "id": "YGXjf6xpBj36"
      },
      "source": [
        "# Writing as PARQUET\n",
        "\n"
      ]
    },
    {
      "cell_type": "markdown",
      "metadata": {
        "id": "14stpbb4Bj37"
      },
      "source": []
    },
    {
      "cell_type": "code",
      "execution_count": 5,
      "metadata": {
        "colab": {
          "base_uri": "https://localhost:8080/"
        },
        "id": "dw5IIgebBj37",
        "outputId": "403e0cd4-05af-45c9-e575-2f0e97841adc"
      },
      "outputs": [
        {
          "output_type": "stream",
          "name": "stdout",
          "text": [
            "part-00000-107acaba-31aa-4a38-95e2-4cb5754ebbbd-c000.snappy.parquet  _SUCCESS\n"
          ]
        },
        {
          "output_type": "execute_result",
          "data": {
            "text/plain": [
              "50"
            ]
          },
          "metadata": {},
          "execution_count": 5
        }
      ],
      "source": [
        "# Writing as PARQUET with no partitions\n",
        "\n",
        "path = \"/content/write_partitioning/parquet_no_partitions\"\n",
        "\n",
        "df.write.mode(\"overwrite\").format(\"parquet\").save(path)\n",
        "\n",
        "!ls /content/write_partitioning/parquet_no_partitions\n",
        "\n",
        "spark.read.format(\"parquet\").load(path).count()"
      ]
    },
    {
      "cell_type": "code",
      "source": [
        "# Writing as PARQUET with partitions\n",
        "from pyspark.sql.functions import *\n",
        "\n",
        "path = \"/content/write_partitioning/parquet_with_partitions\"\n",
        "\n",
        "# Creating partition column\n",
        "df = df.withColumn(\"date_part\", date_format(col(\"date\"), \"yyyyMMdd\"))\n",
        "\n",
        "spark.conf.set(\"spark.sql.sources.partitionOverwriteMode\",\"dynamic\") # enable dynamic partition overwrite - only overwrites partitions that are coming in the dataframe\n",
        "\n",
        "(df#.where(\"date_part = '20240503'\")\n",
        " .write\n",
        " .mode(\"overwrite\")                                               # overwrites the entire path with the new data\n",
        " .partitionBy(\"date_part\")                                        # partition the data by column - creates sub-folders for each partition\n",
        " .format(\"parquet\")                                               # format of output\n",
        " .save(path))                                                     # path\n",
        "\n",
        "!ls /content/write_partitioning/parquet_with_partitions\n",
        "\n",
        "spark.read.format(\"parquet\").load(path).count()"
      ],
      "metadata": {
        "colab": {
          "base_uri": "https://localhost:8080/"
        },
        "id": "DWX9WZbPHrL1",
        "outputId": "f2c37b0c-f72d-4454-c7a3-93fb05c0ec34"
      },
      "execution_count": 6,
      "outputs": [
        {
          "output_type": "stream",
          "name": "stdout",
          "text": [
            "'date_part=20240501'  'date_part=20240502'  'date_part=20240503'  'date_part=20240504'\n"
          ]
        },
        {
          "output_type": "execute_result",
          "data": {
            "text/plain": [
              "50"
            ]
          },
          "metadata": {},
          "execution_count": 6
        }
      ]
    },
    {
      "cell_type": "code",
      "source": [
        "# Checking single partition\n",
        "spark.read.parquet(\"/content/write_partitioning/parquet_with_partitions/date_part=20240502\").show()"
      ],
      "metadata": {
        "colab": {
          "base_uri": "https://localhost:8080/"
        },
        "id": "0B62qu87JsAB",
        "outputId": "41d8e756-9f78-4949-c4d5-734d958edc96"
      },
      "execution_count": 7,
      "outputs": [
        {
          "output_type": "stream",
          "name": "stdout",
          "text": [
            "+--------------------+--------------------+----------+--------------------+-------------------+-------------------+\n",
            "|             address|                date|       dob|               email|               name|              phone|\n",
            "+--------------------+--------------------+----------+--------------------+-------------------+-------------------+\n",
            "|6436 Carpenter Hi...|2024-05-02 19:10:...|1917-09-07|robinsonsteve@exa...|       Pamela Adams|    +1-920-904-9289|\n",
            "|PSC 2078, Box 239...|2024-05-02 16:14:...|1926-11-13|donnarussell@exam...|Christopher Gilmore|+1-392-706-9563x372|\n",
            "|97918 Elizabeth B...|2024-05-02 00:29:...|1940-10-14| wwarren@example.net|   Ashley Jones DVM| 345.323.3589x87610|\n",
            "|8087 Santos View ...|2024-05-02 01:21:...|1975-04-07|ravenballard@exam...|          Tara Hays|      (574)826-2009|\n",
            "|34512 William Mou...|2024-05-02 05:06:...|2003-09-15|harmonlydia@examp...|        Daryl Miles|       323-474-0809|\n",
            "|5708 Veronica Mil...|2024-05-02 02:53:...|1969-02-10| xtorres@example.net|   Jessica Bautista|   001-454-822-1986|\n",
            "+--------------------+--------------------+----------+--------------------+-------------------+-------------------+\n",
            "\n"
          ]
        }
      ]
    },
    {
      "cell_type": "markdown",
      "source": [
        "# Writing as CSV\n",
        "\n",
        "https://spark.apache.org/docs/3.5.1/sql-data-sources-csv.html"
      ],
      "metadata": {
        "id": "n8mTC5yeNV6o"
      }
    },
    {
      "cell_type": "code",
      "source": [
        "df.count()"
      ],
      "metadata": {
        "colab": {
          "base_uri": "https://localhost:8080/"
        },
        "id": "BnAWUTeZO43Z",
        "outputId": "f937d6bb-94c1-4b68-fec5-3a04934bbd1b"
      },
      "execution_count": 8,
      "outputs": [
        {
          "output_type": "execute_result",
          "data": {
            "text/plain": [
              "50"
            ]
          },
          "metadata": {},
          "execution_count": 8
        }
      ]
    },
    {
      "cell_type": "code",
      "source": [
        "path = \"/content/write_partitioning/csv_no_partitioning/\"\n",
        "\n",
        "# write as csv\n",
        "(df\n",
        "  .write\n",
        "  .format(\"csv\")\n",
        "  .mode(\"overwrite\")\n",
        "  .option(\"delimiter\", \"|\")\n",
        "  .option(\"header\", True)\n",
        "  .save(path))\n",
        "\n",
        "# listing files in the folder\n",
        "!ls /content/write_partitioning/csv_no_partitioning/\n",
        "\n",
        "# read as csv\n",
        "(spark\n",
        "  .read\n",
        "  .options(sep=\"|\", multiLine=True, header=True)\n",
        "  .csv(path)\n",
        "  .count())"
      ],
      "metadata": {
        "colab": {
          "base_uri": "https://localhost:8080/"
        },
        "id": "oE6zC-HnNYAz",
        "outputId": "f5c46f14-c24a-4281-de77-31243740b121"
      },
      "execution_count": 9,
      "outputs": [
        {
          "output_type": "stream",
          "name": "stdout",
          "text": [
            "part-00000-43efe976-ad86-4cd2-87d7-e704bcdbcd96-c000.csv  _SUCCESS\n"
          ]
        },
        {
          "output_type": "execute_result",
          "data": {
            "text/plain": [
              "50"
            ]
          },
          "metadata": {},
          "execution_count": 9
        }
      ]
    },
    {
      "cell_type": "markdown",
      "source": [
        "# Writing as JSON\n",
        "\n",
        "https://spark.apache.org/docs/3.5.1/sql-data-sources-json.html"
      ],
      "metadata": {
        "id": "ZAuM5-WcTtyZ"
      }
    },
    {
      "cell_type": "code",
      "source": [
        "path = \"/content/write_partitioning/json_no_partitioning/\"\n",
        "\n",
        "# write as json\n",
        "(df\n",
        ".write\n",
        ".mode(\"overwrite\")\n",
        ".format(\"json\")\n",
        ".save(path))\n",
        "\n",
        "# listing files in the folder\n",
        "!ls /content/write_partitioning/json_no_partitioning/\n",
        "\n",
        "# read as json\n",
        "(spark\n",
        "  .read\n",
        "  .json(path)\n",
        "  .count())"
      ],
      "metadata": {
        "colab": {
          "base_uri": "https://localhost:8080/"
        },
        "id": "vnNgwbtxTsW_",
        "outputId": "2b52f3c9-4353-40e9-bbfa-b7bd5097655c"
      },
      "execution_count": 11,
      "outputs": [
        {
          "output_type": "stream",
          "name": "stdout",
          "text": [
            "part-00000-fef52904-23bb-4bda-b14d-665c015d27bb-c000.json  _SUCCESS\n"
          ]
        },
        {
          "output_type": "execute_result",
          "data": {
            "text/plain": [
              "50"
            ]
          },
          "metadata": {},
          "execution_count": 11
        }
      ]
    },
    {
      "cell_type": "code",
      "source": [
        "# reading json as text\n",
        "spark.read.text(path).show(10, False)"
      ],
      "metadata": {
        "colab": {
          "base_uri": "https://localhost:8080/"
        },
        "id": "D3hYNCubT0ry",
        "outputId": "cd99c375-8ebe-4fea-b9d3-57643f4647db"
      },
      "execution_count": 14,
      "outputs": [
        {
          "output_type": "stream",
          "name": "stdout",
          "text": [
            "+----------------------------------------------------------------------------------------------------------------------------------------------------------------------------------------------------------------------------------------+\n",
            "|value                                                                                                                                                                                                                                   |\n",
            "+----------------------------------------------------------------------------------------------------------------------------------------------------------------------------------------------------------------------------------------+\n",
            "|{\"address\":\"445 Sandy Lodge Apt. 016\\nPort Carlosside, MN 30619\",\"date\":\"2024-05-04T00:58:58.833Z\",\"dob\":\"1916-02-11\",\"email\":\"leah29@example.org\",\"name\":\"Kristina Ross\",\"phone\":\"(450)911-1482\",\"date_part\":\"20240504\"}               |\n",
            "|{\"address\":\"611 Tracy Center\\nMichaelmouth, TX 57404\",\"date\":\"2024-05-01T00:49:04.421Z\",\"dob\":\"1911-04-15\",\"email\":\"wtran@example.net\",\"name\":\"Matthew Matthews\",\"phone\":\"(253)278-3661x732\",\"date_part\":\"20240501\"}                    |\n",
            "|{\"address\":\"499 Jennifer Points\\nSouth Kimberlyport, MP 11051\",\"date\":\"2024-05-03T19:42:19.835Z\",\"dob\":\"1965-04-20\",\"email\":\"zrodriguez@example.net\",\"name\":\"Elizabeth Hernandez\",\"phone\":\"+1-222-382-1079x2517\",\"date_part\":\"20240503\"}|\n",
            "|{\"address\":\"69497 Ward Lodge Suite 639\\nEast Patrickborough, NC 76804\",\"date\":\"2024-05-04T14:23:43.058Z\",\"dob\":\"1932-12-08\",\"email\":\"qgordon@example.net\",\"name\":\"Sarah Perez\",\"phone\":\"384.573.6871\",\"date_part\":\"20240504\"}           |\n",
            "|{\"address\":\"036 David Center Apt. 611\\nSouth Jessestad, MS 39219\",\"date\":\"2024-05-01T01:35:33.368Z\",\"dob\":\"1939-04-09\",\"email\":\"timothy05@example.net\",\"name\":\"Michael Brady\",\"phone\":\"001-429-261-6248x3818\",\"date_part\":\"20240501\"}   |\n",
            "|{\"address\":\"998 Montgomery Forges\\nLake Kim, NY 28454\",\"date\":\"2024-05-01T12:07:40.336Z\",\"dob\":\"2021-10-16\",\"email\":\"smithsuzanne@example.org\",\"name\":\"Maria Hill\",\"phone\":\"293.426.9042x512\",\"date_part\":\"20240501\"}                   |\n",
            "|{\"address\":\"341 Christopher Mountains\\nEast Robert, IN 76506\",\"date\":\"2024-05-01T20:20:54.450Z\",\"dob\":\"1923-11-10\",\"email\":\"hoffmanjames@example.org\",\"name\":\"Samuel Roberts\",\"phone\":\"906-363-2661\",\"date_part\":\"20240501\"}            |\n",
            "|{\"address\":\"6436 Carpenter Hill\\nRileymouth, OH 03624\",\"date\":\"2024-05-02T19:10:58.233Z\",\"dob\":\"1917-09-07\",\"email\":\"robinsonsteve@example.com\",\"name\":\"Pamela Adams\",\"phone\":\"+1-920-904-9289\",\"date_part\":\"20240502\"}                 |\n",
            "|{\"address\":\"6115 Heather Islands\\nEast Joshuaside, NH 49827\",\"date\":\"2024-05-03T21:37:15.875Z\",\"dob\":\"1986-10-07\",\"email\":\"dscott@example.org\",\"name\":\"Richard Hamilton\",\"phone\":\"(308)578-9786x769\",\"date_part\":\"20240503\"}            |\n",
            "|{\"address\":\"171 Christopher Plain Apt. 362\\nNorth Dustin, VA 43868\",\"date\":\"2024-05-04T15:25:23.229Z\",\"dob\":\"1955-07-04\",\"email\":\"nknight@example.org\",\"name\":\"James Collins\",\"phone\":\"535.412.0569x4969\",\"date_part\":\"20240504\"}       |\n",
            "+----------------------------------------------------------------------------------------------------------------------------------------------------------------------------------------------------------------------------------------+\n",
            "only showing top 10 rows\n",
            "\n"
          ]
        }
      ]
    },
    {
      "cell_type": "code",
      "source": [
        "# reading json as text\n",
        "spark.read.json(path).show(10, False)"
      ],
      "metadata": {
        "colab": {
          "base_uri": "https://localhost:8080/"
        },
        "id": "0bHcT2ilUo_F",
        "outputId": "10b5d8a1-91cc-4632-e476-5bce57383b88"
      },
      "execution_count": 15,
      "outputs": [
        {
          "output_type": "stream",
          "name": "stdout",
          "text": [
            "+---------------------------------------------------------+------------------------+---------+----------+-------------------------+-------------------+---------------------+\n",
            "|address                                                  |date                    |date_part|dob       |email                    |name               |phone                |\n",
            "+---------------------------------------------------------+------------------------+---------+----------+-------------------------+-------------------+---------------------+\n",
            "|445 Sandy Lodge Apt. 016\\nPort Carlosside, MN 30619      |2024-05-04T00:58:58.833Z|20240504 |1916-02-11|leah29@example.org       |Kristina Ross      |(450)911-1482        |\n",
            "|611 Tracy Center\\nMichaelmouth, TX 57404                 |2024-05-01T00:49:04.421Z|20240501 |1911-04-15|wtran@example.net        |Matthew Matthews   |(253)278-3661x732    |\n",
            "|499 Jennifer Points\\nSouth Kimberlyport, MP 11051        |2024-05-03T19:42:19.835Z|20240503 |1965-04-20|zrodriguez@example.net   |Elizabeth Hernandez|+1-222-382-1079x2517 |\n",
            "|69497 Ward Lodge Suite 639\\nEast Patrickborough, NC 76804|2024-05-04T14:23:43.058Z|20240504 |1932-12-08|qgordon@example.net      |Sarah Perez        |384.573.6871         |\n",
            "|036 David Center Apt. 611\\nSouth Jessestad, MS 39219     |2024-05-01T01:35:33.368Z|20240501 |1939-04-09|timothy05@example.net    |Michael Brady      |001-429-261-6248x3818|\n",
            "|998 Montgomery Forges\\nLake Kim, NY 28454                |2024-05-01T12:07:40.336Z|20240501 |2021-10-16|smithsuzanne@example.org |Maria Hill         |293.426.9042x512     |\n",
            "|341 Christopher Mountains\\nEast Robert, IN 76506         |2024-05-01T20:20:54.450Z|20240501 |1923-11-10|hoffmanjames@example.org |Samuel Roberts     |906-363-2661         |\n",
            "|6436 Carpenter Hill\\nRileymouth, OH 03624                |2024-05-02T19:10:58.233Z|20240502 |1917-09-07|robinsonsteve@example.com|Pamela Adams       |+1-920-904-9289      |\n",
            "|6115 Heather Islands\\nEast Joshuaside, NH 49827          |2024-05-03T21:37:15.875Z|20240503 |1986-10-07|dscott@example.org       |Richard Hamilton   |(308)578-9786x769    |\n",
            "|171 Christopher Plain Apt. 362\\nNorth Dustin, VA 43868   |2024-05-04T15:25:23.229Z|20240504 |1955-07-04|nknight@example.org      |James Collins      |535.412.0569x4969    |\n",
            "+---------------------------------------------------------+------------------------+---------+----------+-------------------------+-------------------+---------------------+\n",
            "only showing top 10 rows\n",
            "\n"
          ]
        }
      ]
    },
    {
      "cell_type": "code",
      "source": [
        "# partition json data + saveAsTable\n",
        "\n",
        "# Creating partition column\n",
        "df = df.withColumn(\"date_part\", date_format(col(\"date\"), \"yyyyMMdd\"))\n",
        "\n",
        "# write as json\n",
        "(df.write\n",
        "  .partitionBy(\"date_part\")\n",
        "  .mode(\"overwrite\")\n",
        "  .format(\"json\")\n",
        "  .saveAsTable(\"tbl_json_part\"))\n",
        "\n",
        "# read as json\n",
        "spark.table(\"tbl_json_part\").count()\n",
        "\n",
        "# read as json\n",
        "spark.sql(\"show partitions tbl_json_part\").show()"
      ],
      "metadata": {
        "colab": {
          "base_uri": "https://localhost:8080/"
        },
        "id": "Qj59UNMuU0hV",
        "outputId": "3cd9f3fa-2215-416c-98e8-99f421338b08"
      },
      "execution_count": 16,
      "outputs": [
        {
          "output_type": "stream",
          "name": "stdout",
          "text": [
            "+------------------+\n",
            "|         partition|\n",
            "+------------------+\n",
            "|date_part=20240501|\n",
            "|date_part=20240502|\n",
            "|date_part=20240503|\n",
            "|date_part=20240504|\n",
            "+------------------+\n",
            "\n"
          ]
        }
      ]
    },
    {
      "cell_type": "markdown",
      "source": [
        "# Append Mode"
      ],
      "metadata": {
        "id": "6RhijzyqZeeq"
      }
    },
    {
      "cell_type": "code",
      "source": [
        "# Writing as PARQUET with APPEND\n",
        "\n",
        "path = \"/content/write_partitioning/parquet_append\"\n",
        "\n",
        "df.write.mode(\"append\").format(\"parquet\").save(path)\n",
        "\n",
        "!ls /content/write_partitioning/parquet_append\n",
        "\n",
        "spark.read.format(\"parquet\").load(path).count()"
      ],
      "metadata": {
        "id": "GmLjA1zDZeG_",
        "outputId": "3fa01b47-0400-4e5d-8d3d-e7339a15c73f",
        "colab": {
          "base_uri": "https://localhost:8080/"
        }
      },
      "execution_count": 17,
      "outputs": [
        {
          "output_type": "stream",
          "name": "stdout",
          "text": [
            "part-00000-de99dbf1-b9cf-4d5e-b57f-dd035cdc28ac-c000.snappy.parquet  _SUCCESS\n"
          ]
        },
        {
          "output_type": "execute_result",
          "data": {
            "text/plain": [
              "50"
            ]
          },
          "metadata": {},
          "execution_count": 17
        }
      ]
    }
  ],
  "metadata": {
    "colab": {
      "provenance": [],
      "include_colab_link": true
    },
    "kernelspec": {
      "display_name": "Python 3",
      "name": "python3"
    },
    "language_info": {
      "name": "python"
    }
  },
  "nbformat": 4,
  "nbformat_minor": 0
}
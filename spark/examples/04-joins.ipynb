{
  "cells": [
    {
      "cell_type": "markdown",
      "metadata": {
        "id": "view-in-github",
        "colab_type": "text"
      },
      "source": [
        "<a href=\"https://colab.research.google.com/github/lucprosa/dataeng-basic-course/blob/main/spark/examples/04-joins.ipynb\" target=\"_parent\"><img src=\"https://colab.research.google.com/assets/colab-badge.svg\" alt=\"Open In Colab\"/></a>"
      ]
    },
    {
      "cell_type": "markdown",
      "metadata": {
        "id": "4M10EVsXFrd_"
      },
      "source": [
        "<a href=\"https://colab.research.google.com/github/lucprosa/dataeng-basic-course/blob/main/spark/examples/04-joins.ipynb\" target=\"_parent\"><img src=\"https://colab.research.google.com/assets/colab-badge.svg\" alt=\"Open In Colab\"/></a>"
      ]
    },
    {
      "cell_type": "markdown",
      "metadata": {
        "id": "BOA_wQSmLd9z"
      },
      "source": [
        "# Joins"
      ]
    },
    {
      "cell_type": "markdown",
      "metadata": {
        "id": "d9LeYFsPTjAb"
      },
      "source": [
        "# Setting up PySpark"
      ]
    },
    {
      "cell_type": "code",
      "execution_count": 1,
      "metadata": {
        "colab": {
          "base_uri": "https://localhost:8080/"
        },
        "id": "uYXeODL0T1fO",
        "outputId": "2132db63-8ad4-4165-ed36-ae3e20d82b4f"
      },
      "outputs": [
        {
          "output_type": "stream",
          "name": "stdout",
          "text": [
            "Requirement already satisfied: pyspark in /usr/local/lib/python3.10/dist-packages (3.5.3)\n",
            "Requirement already satisfied: py4j==0.10.9.7 in /usr/local/lib/python3.10/dist-packages (from pyspark) (0.10.9.7)\n"
          ]
        }
      ],
      "source": [
        "%pip install pyspark"
      ]
    },
    {
      "cell_type": "code",
      "execution_count": 3,
      "metadata": {
        "id": "637HFw00T3LP"
      },
      "outputs": [],
      "source": [
        "from pyspark.sql import SparkSession\n",
        "spark = SparkSession.builder.master('local').appName('Spark Course').config('spark.ui.port', '4050').getOrCreate()\n",
        "sc = spark.sparkContext"
      ]
    },
    {
      "cell_type": "code",
      "source": [
        "employee_data = [(\"101\", \"Chloe\", 3),\n",
        "            (\"102\", \"Paul\", 1),\n",
        "            (\"103\", \"John\", 1),\n",
        "            (\"104\", \"Lisa\", 2),\n",
        "            (\"105\", \"Evan\", 3),\n",
        "            (\"106\", \"Amy\", 3),\n",
        "            (\"107\", \"Jimmy\", 5)]\n",
        "dpto_data = [(\"1\", \"Engineering\"), (\"2\", \"Sales\"), (\"3\", \"Marketing\"), (\"4\", \"Finance\")]\n",
        "\n",
        "employee_columns = [\"id\", \"name\", \"dpto\"]\n",
        "dpto_columns = [\"dpto\", \"deptname\"]\n",
        "\n",
        "employee = sc.parallelize(employee_data).toDF(employee_columns)\n",
        "dpto = sc.parallelize(dpto_data).toDF(dpto_columns)"
      ],
      "metadata": {
        "id": "Us_jgkYJIhcT"
      },
      "execution_count": 20,
      "outputs": []
    },
    {
      "cell_type": "code",
      "source": [
        "# Employee's dtaframe\n",
        "employee.show()"
      ],
      "metadata": {
        "id": "qudxqOymJj-s",
        "outputId": "71f620b0-3552-4036-a057-753b2fb5f65d",
        "colab": {
          "base_uri": "https://localhost:8080/"
        }
      },
      "execution_count": 21,
      "outputs": [
        {
          "output_type": "stream",
          "name": "stdout",
          "text": [
            "+---+-----+----+\n",
            "| id| name|dpto|\n",
            "+---+-----+----+\n",
            "|101|Chloe|   3|\n",
            "|102| Paul|   1|\n",
            "|103| John|   1|\n",
            "|104| Lisa|   2|\n",
            "|105| Evan|   3|\n",
            "|106|  Amy|   3|\n",
            "|107|Jimmy|   4|\n",
            "+---+-----+----+\n",
            "\n"
          ]
        }
      ]
    },
    {
      "cell_type": "code",
      "source": [
        "# Department's dtaframe\n",
        "dpto.show()"
      ],
      "metadata": {
        "id": "RXHcXZIPLfhZ",
        "outputId": "31688d22-0742-49fe-995e-3fed90687608",
        "colab": {
          "base_uri": "https://localhost:8080/"
        }
      },
      "execution_count": 22,
      "outputs": [
        {
          "output_type": "stream",
          "name": "stdout",
          "text": [
            "+----+-----------+\n",
            "|dpto|   deptname|\n",
            "+----+-----------+\n",
            "|   1|Engineering|\n",
            "|   2|      Sales|\n",
            "|   3|  Marketing|\n",
            "|   4|    Finance|\n",
            "+----+-----------+\n",
            "\n"
          ]
        }
      ]
    },
    {
      "cell_type": "markdown",
      "metadata": {
        "id": "a7dhl2LPFreE"
      },
      "source": [
        "# Joins"
      ]
    },
    {
      "cell_type": "code",
      "execution_count": 23,
      "metadata": {
        "id": "3isk0KvuFreE",
        "outputId": "287319c5-fec1-4e0b-b612-db0c0060f705",
        "colab": {
          "base_uri": "https://localhost:8080/"
        }
      },
      "outputs": [
        {
          "output_type": "stream",
          "name": "stdout",
          "text": [
            "+----+---+-----+-----------+\n",
            "|dpto| id| name|   deptname|\n",
            "+----+---+-----+-----------+\n",
            "|   1|102| Paul|Engineering|\n",
            "|   1|103| John|Engineering|\n",
            "|   2|104| Lisa|      Sales|\n",
            "|   3|101|Chloe|  Marketing|\n",
            "|   3|105| Evan|  Marketing|\n",
            "|   3|106|  Amy|  Marketing|\n",
            "|   4|107|Jimmy|    Finance|\n",
            "+----+---+-----+-----------+\n",
            "\n",
            "+---+-----+----+----+-----------+\n",
            "| id| name|dpto|dpto|   deptname|\n",
            "+---+-----+----+----+-----------+\n",
            "|102| Paul|   1|   1|Engineering|\n",
            "|103| John|   1|   1|Engineering|\n",
            "|104| Lisa|   2|   2|      Sales|\n",
            "|101|Chloe|   3|   3|  Marketing|\n",
            "|105| Evan|   3|   3|  Marketing|\n",
            "|106|  Amy|   3|   3|  Marketing|\n",
            "|107|Jimmy|   4|   4|    Finance|\n",
            "+---+-----+----+----+-----------+\n",
            "\n"
          ]
        }
      ],
      "source": [
        "# Inner join - exists on both sides\n",
        "employee.join(dpto, [\"dpto\"]).show()\n",
        "# or\n",
        "employee.join(dpto, employee[\"dpto\"] == dpto[\"dpto\"], how = \"inner\").show()"
      ]
    },
    {
      "cell_type": "code",
      "source": [
        "# Left join - bring everything from the left side + what exists on right side\n",
        "\n",
        "employee.join(dpto, employee[\"dpto\"] == dpto[\"dpto\"], how = \"left\").show()"
      ],
      "metadata": {
        "id": "7kH24QHgL9NE",
        "outputId": "720fa111-7a96-460d-ef6a-d61b594e72a2",
        "colab": {
          "base_uri": "https://localhost:8080/"
        }
      },
      "execution_count": 24,
      "outputs": [
        {
          "output_type": "stream",
          "name": "stdout",
          "text": [
            "+---+-----+----+----+-----------+\n",
            "| id| name|dpto|dpto|   deptname|\n",
            "+---+-----+----+----+-----------+\n",
            "|102| Paul|   1|   1|Engineering|\n",
            "|103| John|   1|   1|Engineering|\n",
            "|101|Chloe|   3|   3|  Marketing|\n",
            "|105| Evan|   3|   3|  Marketing|\n",
            "|106|  Amy|   3|   3|  Marketing|\n",
            "|104| Lisa|   2|   2|      Sales|\n",
            "|107|Jimmy|   4|   4|    Finance|\n",
            "+---+-----+----+----+-----------+\n",
            "\n"
          ]
        }
      ]
    },
    {
      "cell_type": "code",
      "source": [],
      "metadata": {
        "id": "0DvT6UdyM_0h"
      },
      "execution_count": null,
      "outputs": []
    }
  ],
  "metadata": {
    "colab": {
      "provenance": [],
      "include_colab_link": true
    },
    "kernelspec": {
      "display_name": "Python 3",
      "name": "python3"
    },
    "language_info": {
      "name": "python"
    }
  },
  "nbformat": 4,
  "nbformat_minor": 0
}
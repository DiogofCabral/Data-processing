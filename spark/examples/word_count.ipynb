{
  "cells": [
    {
      "cell_type": "markdown",
      "metadata": {
        "id": "view-in-github",
        "colab_type": "text"
      },
      "source": [
        "<a href=\"https://colab.research.google.com/github/lucprosa/dataeng-basic-course/blob/main/spark/examples/word_count.ipynb\" target=\"_parent\"><img src=\"https://colab.research.google.com/assets/colab-badge.svg\" alt=\"Open In Colab\"/></a>"
      ]
    },
    {
      "cell_type": "markdown",
      "metadata": {
        "id": "IAfIZtpGOIuD"
      },
      "source": [
        "<a href=\"https://colab.research.google.com/github/lucprosa/dataeng-basic-course/blob/main/spark/examples/word_count.ipynb\" target=\"_parent\"><img src=\"https://colab.research.google.com/assets/colab-badge.svg\" alt=\"Open In Colab\"/></a>"
      ]
    },
    {
      "cell_type": "markdown",
      "metadata": {
        "id": "4_GBE9UsyxwK"
      },
      "source": []
    },
    {
      "cell_type": "markdown",
      "metadata": {
        "id": "BOA_wQSmLd9z"
      },
      "source": [
        "# Word Count"
      ]
    },
    {
      "cell_type": "markdown",
      "metadata": {
        "id": "d9LeYFsPTjAb"
      },
      "source": [
        "# Setting up PySpark"
      ]
    },
    {
      "cell_type": "code",
      "execution_count": null,
      "metadata": {
        "colab": {
          "base_uri": "https://localhost:8080/"
        },
        "id": "uYXeODL0T1fO",
        "outputId": "c410e46c-4a50-43aa-926f-d0417c6280d2"
      },
      "outputs": [
        {
          "name": "stdout",
          "output_type": "stream",
          "text": [
            "Requirement already satisfied: pyspark in /usr/local/lib/python3.10/dist-packages (3.5.3)\n",
            "Requirement already satisfied: py4j==0.10.9.7 in /usr/local/lib/python3.10/dist-packages (from pyspark) (0.10.9.7)\n"
          ]
        }
      ],
      "source": [
        "%pip install pyspark"
      ]
    },
    {
      "cell_type": "code",
      "execution_count": 31,
      "metadata": {
        "id": "637HFw00T3LP"
      },
      "outputs": [],
      "source": [
        "from pyspark.sql import SparkSession\n",
        "spark = SparkSession.builder.master('local').appName('Spark Course').config('spark.ui.port', '4050').getOrCreate()\n",
        "\n",
        "sc = spark.sparkContext"
      ]
    },
    {
      "cell_type": "code",
      "execution_count": 4,
      "metadata": {
        "id": "7r382W3hOIuG"
      },
      "outputs": [],
      "source": [
        "!mkdir /content/files/\n",
        "text = \"these are words \\\n",
        "these are more words \\\n",
        "words in english\"\n",
        "\n",
        "text_file = open(\"/content/files/some_words.txt\", \"w\")\n",
        "text_file.write(text)\n",
        "text_file.close()"
      ]
    },
    {
      "cell_type": "code",
      "execution_count": 12,
      "metadata": {
        "colab": {
          "base_uri": "https://localhost:8080/"
        },
        "id": "SYbVhFNrOIuG",
        "outputId": "cd80b193-d27f-4438-910b-16aba150eae8"
      },
      "outputs": [
        {
          "output_type": "execute_result",
          "data": {
            "text/plain": [
              "1"
            ]
          },
          "metadata": {},
          "execution_count": 12
        }
      ],
      "source": [
        "rdd1 = sc.textFile(\"/content/files/some_words.txt\")\n",
        "\n",
        "# check how many partitions\n",
        "rdd1.getNumPartitions()"
      ]
    },
    {
      "cell_type": "code",
      "source": [
        "# increase partitions\n",
        "rdd2 = text_file.repartition(3)\n",
        "rdd2.getNumPartitions()"
      ],
      "metadata": {
        "colab": {
          "base_uri": "https://localhost:8080/"
        },
        "id": "s1_m-MJuOg7b",
        "outputId": "c5c63988-b2bb-494e-fc0c-2dfbb70892a8"
      },
      "execution_count": 23,
      "outputs": [
        {
          "output_type": "execute_result",
          "data": {
            "text/plain": [
              "3"
            ]
          },
          "metadata": {},
          "execution_count": 23
        }
      ]
    },
    {
      "cell_type": "code",
      "source": [
        "# flatMap - Each item in input can be 0 or more items in output (returns a Seq)\n",
        "# \"these are words\" -> split by \" \" -> [\"there\", \"are\", \"words\"]\n",
        "rdd3 = rdd2.flatMap(lambda line: line.split(\" \"))\n",
        "\n",
        "# send data to driver if cluster\n",
        "rdd3.collect()"
      ],
      "metadata": {
        "colab": {
          "base_uri": "https://localhost:8080/"
        },
        "id": "TvxD2uY8QW-E",
        "outputId": "923aa5bf-11f6-4633-ff97-d516d24df0d1"
      },
      "execution_count": 24,
      "outputs": [
        {
          "output_type": "execute_result",
          "data": {
            "text/plain": [
              "['these',\n",
              " 'are',\n",
              " 'words',\n",
              " 'these',\n",
              " 'are',\n",
              " 'more',\n",
              " 'words',\n",
              " 'words',\n",
              " 'in',\n",
              " 'english']"
            ]
          },
          "metadata": {},
          "execution_count": 24
        }
      ]
    },
    {
      "cell_type": "code",
      "source": [
        "# map - Each item in input returns one item in output\n",
        "# \"these\" -> (\"these\", 1)\n",
        "rdd4 = rdd3.map(lambda word: (word, 1))\n",
        "rdd4.collect()"
      ],
      "metadata": {
        "colab": {
          "base_uri": "https://localhost:8080/"
        },
        "id": "FTzNkKhiRIRx",
        "outputId": "95252c27-41b8-46a3-fb3e-714bdc2a1bbb"
      },
      "execution_count": 25,
      "outputs": [
        {
          "output_type": "execute_result",
          "data": {
            "text/plain": [
              "[('these', 1),\n",
              " ('are', 1),\n",
              " ('words', 1),\n",
              " ('these', 1),\n",
              " ('are', 1),\n",
              " ('more', 1),\n",
              " ('words', 1),\n",
              " ('words', 1),\n",
              " ('in', 1),\n",
              " ('english', 1)]"
            ]
          },
          "metadata": {},
          "execution_count": 25
        }
      ]
    },
    {
      "cell_type": "code",
      "source": [
        "# reduceByKey - When called on a dataset of (K, V) pairs, returns a dataset of (K, V) pairs where the values for each key are\n",
        "# aggregated using the given reduce function func, which must be of type (V,V) => V.\n",
        "\n",
        "rdd5 = rdd4.reduceByKey(lambda a, b: a + b)\n",
        "sorted(rdd5.collect())"
      ],
      "metadata": {
        "colab": {
          "base_uri": "https://localhost:8080/"
        },
        "id": "RioZ_RSrQfPq",
        "outputId": "f535ef1d-0c89-4d8b-8855-da17e1428cab"
      },
      "execution_count": 37,
      "outputs": [
        {
          "output_type": "execute_result",
          "data": {
            "text/plain": [
              "[('are', 2),\n",
              " ('english', 1),\n",
              " ('in', 1),\n",
              " ('more', 1),\n",
              " ('these', 2),\n",
              " ('words', 3)]"
            ]
          },
          "metadata": {},
          "execution_count": 37
        }
      ]
    },
    {
      "cell_type": "code",
      "source": [
        "# another way to count the words - using method \"add\"\n",
        "from operator import add\n",
        "sorted(rdd4.reduceByKey(add).collect())"
      ],
      "metadata": {
        "colab": {
          "base_uri": "https://localhost:8080/"
        },
        "id": "_OegU-OxRdEt",
        "outputId": "7df2ebeb-cf51-4abf-bd82-45b8e62e6fe2"
      },
      "execution_count": 35,
      "outputs": [
        {
          "output_type": "execute_result",
          "data": {
            "text/plain": [
              "[('are', 2),\n",
              " ('english', 1),\n",
              " ('in', 1),\n",
              " ('more', 1),\n",
              " ('these', 2),\n",
              " ('words', 3)]"
            ]
          },
          "metadata": {},
          "execution_count": 35
        }
      ]
    },
    {
      "cell_type": "code",
      "source": [
        "# putting all commands together\n",
        "\n",
        "counts = (\n",
        "    rdd1.flatMap(lambda line: line.split(\" \"))\n",
        "    .map(lambda word: (word, 1))\n",
        "    .reduceByKey(lambda a, b: a + b)\n",
        "    .sortByKey()\n",
        ")\n",
        "\n",
        "counts.collect()"
      ],
      "metadata": {
        "colab": {
          "base_uri": "https://localhost:8080/"
        },
        "id": "oD4a_Et4VdTB",
        "outputId": "7bf51942-2e14-4211-d5bb-ab00b67e6b92"
      },
      "execution_count": 53,
      "outputs": [
        {
          "output_type": "execute_result",
          "data": {
            "text/plain": [
              "[('these', 2),\n",
              " ('are', 2),\n",
              " ('words', 3),\n",
              " ('more', 1),\n",
              " ('in', 1),\n",
              " ('english', 1)]"
            ]
          },
          "metadata": {},
          "execution_count": 53
        }
      ]
    },
    {
      "cell_type": "code",
      "source": [],
      "metadata": {
        "id": "5vHbBWdKX10v"
      },
      "execution_count": null,
      "outputs": []
    },
    {
      "cell_type": "code",
      "source": [
        "def wordCount(file_path: str, num_partitions: int) -> list:\n",
        "  rdd1 = sc.textFile(file_path)\n",
        "  counts = (\n",
        "      rdd1.flatMap(lambda line: line.split(\" \"))\n",
        "      .map(lambda word: (word, 1))\n",
        "      .reduceByKey(lambda a, b: a + b, num_partitions)\n",
        "      .sortByKey()\n",
        "  )\n",
        "  return counts\n",
        "\n",
        "wordCount(\"/content/files/some_words.txt\", 7).collect()\n",
        "wordCount(\"/content/files/some_words.txt\", 7).getNumPartitions()"
      ],
      "metadata": {
        "id": "azZ0Q2fPXOOB",
        "outputId": "2df5484c-3f78-4690-e9eb-dd9ccdf45920",
        "colab": {
          "base_uri": "https://localhost:8080/"
        }
      },
      "execution_count": 59,
      "outputs": [
        {
          "output_type": "execute_result",
          "data": {
            "text/plain": [
              "7"
            ]
          },
          "metadata": {},
          "execution_count": 59
        }
      ]
    },
    {
      "cell_type": "code",
      "source": [],
      "metadata": {
        "id": "bbBLh_qJYVUd"
      },
      "execution_count": null,
      "outputs": []
    }
  ],
  "metadata": {
    "colab": {
      "provenance": [],
      "include_colab_link": true
    },
    "kernelspec": {
      "display_name": "Python 3",
      "name": "python3"
    },
    "language_info": {
      "name": "python"
    }
  },
  "nbformat": 4,
  "nbformat_minor": 0
}
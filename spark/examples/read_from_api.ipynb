{
  "cells": [
    {
      "cell_type": "markdown",
      "metadata": {
        "id": "view-in-github",
        "colab_type": "text"
      },
      "source": [
        "<a href=\"https://colab.research.google.com/github/lucprosa/dataeng-basic-course/blob/main/spark/examples/read_from_api.ipynb\" target=\"_parent\"><img src=\"https://colab.research.google.com/assets/colab-badge.svg\" alt=\"Open In Colab\"/></a>"
      ]
    },
    {
      "cell_type": "markdown",
      "metadata": {
        "id": "_lizMvF5GeiH"
      },
      "source": [
        "<a href=\"https://colab.research.google.com/github/lucprosa/dataeng-basic-course/blob/main/spark/examples/read_from_api.ipynb\" target=\"_parent\"><img src=\"https://colab.research.google.com/assets/colab-badge.svg\" alt=\"Open In Colab\"/></a>"
      ]
    },
    {
      "cell_type": "markdown",
      "metadata": {
        "id": "4_GBE9UsyxwK"
      },
      "source": []
    },
    {
      "cell_type": "markdown",
      "metadata": {
        "id": "BOA_wQSmLd9z"
      },
      "source": [
        "# Read from API\n",
        "- ..."
      ]
    },
    {
      "cell_type": "markdown",
      "metadata": {
        "id": "d9LeYFsPTjAb"
      },
      "source": [
        "# Setting up PySpark"
      ]
    },
    {
      "cell_type": "code",
      "execution_count": null,
      "metadata": {
        "colab": {
          "base_uri": "https://localhost:8080/"
        },
        "id": "uYXeODL0T1fO",
        "outputId": "c410e46c-4a50-43aa-926f-d0417c6280d2"
      },
      "outputs": [
        {
          "name": "stdout",
          "output_type": "stream",
          "text": [
            "Requirement already satisfied: pyspark in /usr/local/lib/python3.10/dist-packages (3.5.3)\n",
            "Requirement already satisfied: py4j==0.10.9.7 in /usr/local/lib/python3.10/dist-packages (from pyspark) (0.10.9.7)\n"
          ]
        }
      ],
      "source": [
        "%pip install pyspark"
      ]
    },
    {
      "cell_type": "code",
      "execution_count": 18,
      "metadata": {
        "id": "637HFw00T3LP"
      },
      "outputs": [],
      "source": [
        "from pyspark.sql import SparkSession\n",
        "spark = SparkSession.builder.master('local').appName('Spark Course').config('spark.ui.port', '4050').getOrCreate()\n",
        "sc = spark.sparkContext"
      ]
    },
    {
      "cell_type": "code",
      "source": [
        "schema"
      ],
      "metadata": {
        "id": "L8RZLl1LXHTk",
        "outputId": "683f7475-7006-4339-ee6e-dc0912a25ca1",
        "colab": {
          "base_uri": "https://localhost:8080/"
        }
      },
      "execution_count": 84,
      "outputs": [
        {
          "output_type": "execute_result",
          "data": {
            "text/plain": [
              "StructType([StructField('bearing', IntegerType(), True), StructField('block_id', StringType(), True), StructField('current_status', StringType(), True), StructField('id', StringType(), True), StructField('lat', FloatType(), True), StructField('line_id', StringType(), True), StructField('lon', FloatType(), True), StructField('pattern_id', StringType(), True), StructField('route_id', StringType(), True), StructField('schedule_relationship', StringType(), True), StructField('shift_id', StringType(), True), StructField('speed', FloatType(), True), StructField('stop_id', StringType(), True), StructField('timestamp', TimestampType(), True), StructField('trip_id', StringType(), True)])"
            ]
          },
          "metadata": {},
          "execution_count": 84
        }
      ]
    },
    {
      "cell_type": "markdown",
      "metadata": {
        "id": "FM8YQx6XGeiL"
      },
      "source": [
        "# Get data from API - Vehicles"
      ]
    },
    {
      "cell_type": "code",
      "execution_count": 85,
      "metadata": {
        "id": "0wntlQDWGeiL"
      },
      "outputs": [],
      "source": [
        "import requests\n",
        "import json\n",
        "\n",
        "def readFromAPI(url: str, schema: StructType):\n",
        "  response = requests.get(url)\n",
        "  rdd = sc.parallelize(response.json())\n",
        "  df = spark.read.schema(schema).json(rdd)\n",
        "  return df"
      ]
    },
    {
      "cell_type": "code",
      "source": [
        "from pyspark.sql.types import *\n",
        "vehicle_schema = StructType([StructField('bearing', IntegerType(), True),\n",
        "                             StructField('block_id', StringType(), True),\n",
        "                             StructField('current_status', StringType(), True),\n",
        "                             StructField('id', StringType(), True),\n",
        "                             StructField('lat', FloatType(), True),\n",
        "                             StructField('line_id', StringType(), True),\n",
        "                             StructField('lon', FloatType(), True),\n",
        "                             StructField('pattern_id', StringType(), True),\n",
        "                             StructField('route_id', StringType(), True),\n",
        "                             StructField('schedule_relationship', StringType(), True),\n",
        "                             StructField('shift_id', StringType(), True),\n",
        "                             StructField('speed', FloatType(), True),\n",
        "                             StructField('stop_id', StringType(), True),\n",
        "                             StructField('timestamp', TimestampType(), True),\n",
        "                             StructField('trip_id', StringType(), True)])\n",
        "\n",
        "vehicles = readFromAPI(\"https://api.carrismetropolitana.pt/vehicles\", vehicle_schema)\n",
        "print(vehicles.count())\n",
        "vehicles.show()"
      ],
      "metadata": {
        "id": "VUI0pjsuJh5z",
        "outputId": "1750a2e5-9e4c-4e62-964e-44979cab990f",
        "colab": {
          "base_uri": "https://localhost:8080/"
        }
      },
      "execution_count": 89,
      "outputs": [
        {
          "output_type": "stream",
          "name": "stdout",
          "text": [
            "1163\n",
            "+-------+--------------------+--------------+--------+---------+-------+---------+----------+--------+---------------------+------------+---------+-------+-------------------+--------------------+\n",
            "|bearing|            block_id|current_status|      id|      lat|line_id|      lon|pattern_id|route_id|schedule_relationship|    shift_id|    speed|stop_id|          timestamp|             trip_id|\n",
            "+-------+--------------------+--------------+--------+---------+-------+---------+----------+--------+---------------------+------------+---------+-------+-------------------+--------------------+\n",
            "|     71|20241111-64010025...| IN_TRANSIT_TO|44|12709|38.649673|   4701|-8.991487|  4701_0_2|  4701_0|            SCHEDULED|123230234560|3.8888888| 090117|2024-11-11 17:56:40|4701_0_2|1100|173...|\n",
            "|     11|20241111-64010094...|    STOPPED_AT|44|12637| 38.73084|   4002|-8.972685|  4002_0_3|  4002_0|            SCHEDULED|121520234560|      0.0| 010066|2024-11-11 17:56:47|4002_0_3|1100|173...|\n",
            "|     20|20241111-64010298...|   INCOMING_AT|44|12647|38.529152|   4439|-8.886271|  4439_0_1|  4439_0|            SCHEDULED|111250234560|      5.0| 162004|2024-11-11 17:55:59|4439_0_1|1100|172...|\n",
            "|    112|20241111-64010082...|   INCOMING_AT|44|12526|38.583187|   4531|-8.913045|  4531_0_1|  4531_0|            SCHEDULED|121630234560|15.833333| 130619|2024-11-11 17:56:47|4531_0_1|1100|172...|\n",
            "|     31|20241111-64010221...| IN_TRANSIT_TO|44|12731|38.522896|   4420|-8.864248|  4420_0_2|  4420_0|            SCHEDULED|112300234560| 6.388889| 160177|2024-11-11 17:56:35|4420_0_2|1100|171...|\n",
            "|     80|20241111-64010311...| IN_TRANSIT_TO|44|12632|38.525505|   4432| -8.89318|  4432_0_2|  4432_0|            SCHEDULED|111120234560|5.8333335| 160139|2024-11-11 17:56:45|4432_0_2|1100|171...|\n",
            "|     93|20241111-64010158...| IN_TRANSIT_TO|44|12529|38.599747|   4902|-8.661297|  4902_0_1|  4902_0|            SCHEDULED|111210234560|11.666667| 130701|2024-11-11 17:56:36|4902_0_1|1100|174...|\n",
            "|    132|20241111-64010147...| IN_TRANSIT_TO|44|12710| 38.77849|   4710|-9.065053|  4710_0_1|  4710_0|            SCHEDULED|113290234560|28.333334| 130451|2024-11-11 17:56:36|4710_0_1|1100|174...|\n",
            "|    170|20241111-64010160...|   INCOMING_AT|44|12708|38.675076|   4725|-9.174348|  4725_0_1|  4725_0|            SCHEDULED|113230234560| 16.11111| 020001|2024-11-11 17:56:43|4725_0_1|1100|173...|\n",
            "|    164|20241111-64010261...| IN_TRANSIT_TO|44|12612|38.546116|   4560|-9.013242|  4560_0_2|  4560_0|            SCHEDULED|111620234560|3.6111112| 160762|2024-11-11 17:56:36|4560_0_2|1100|173...|\n",
            "|     67|20241111-64010097...| IN_TRANSIT_TO|44|13600|38.681633|   4600|-8.962091|  4600_0_2|  4600_0|            SCHEDULED|121490234560|     10.0| 100420|2024-11-11 17:56:36|4600_0_2|1100|170...|\n",
            "|    278|20241111-64010590...| IN_TRANSIT_TO|44|12711|38.785618|   4710|-9.085365|  4710_0_2|  4710_0|            SCHEDULED|113250234560|26.666666| 060005|2024-11-11 17:56:35|4710_0_2|1100|170...|\n",
            "|    319|20241111-64010026...| IN_TRANSIT_TO|44|12698|38.783394|   4701| -9.10566|  4701_0_1|  4701_0|            SCHEDULED|123220234560|1.6666666| 100417|2024-11-11 17:56:48|4701_0_1|1100|174...|\n",
            "|    207|20241111-64010296...| IN_TRANSIT_TO|44|12591| 38.53036|   4562|-8.885775|  4562_0_2|  4562_0|            SCHEDULED|111270234560|      0.0| 162008|2024-11-11 17:56:36|4562_0_2|1100|163...|\n",
            "|    312|20241111-64010122...|   INCOMING_AT|44|12056|38.654247|   4101|-9.007682|  4101_0_2|  4101_0|            SCHEDULED|121240234560|11.944445| 090008|2024-11-11 17:56:47|4101_0_2|1100|174...|\n",
            "|    252|20241111-64010286...|   INCOMING_AT|44|12577| 38.52188|   4452|-8.820722|  4452_0_1|  4452_0|            SCHEDULED|111370234560| 8.888889| 160321|2024-11-11 17:56:46|4452_0_1|1100|171...|\n",
            "|     17|20241111-64010086...| IN_TRANSIT_TO|44|12551| 38.67667|   4516|-8.929295|  4516_0_2|  4516_0|            SCHEDULED|121590234560|6.9444447| 100356|2024-11-11 17:56:43|4516_0_2|1100|174...|\n",
            "|      0|             1022-11| IN_TRANSIT_TO| 42|2035|38.802067|   2030|-9.127336|  2030_0_3|  2030_0|            SCHEDULED|        1294|      0.0| 070622|2024-11-11 17:55:51|2030_0_3|1|1|1720...|\n",
            "|    134|             1072-11| IN_TRANSIT_TO| 42|2365| 38.78713|   2711|-9.141872|  2711_0_1|  2711_0|            SCHEDULED|        1076|      7.5| 060246|2024-11-11 17:56:14|2711_0_1|1|1|1745...|\n",
            "|     29|             1161-11| IN_TRANSIT_TO| 42|2305|  38.8373|   2791|-9.082975|  2791_0_2|  2791_0|            SCHEDULED|        1107|4.7222223| 071625|2024-11-11 17:55:55|2791_0_2|1|1|1710...|\n",
            "+-------+--------------------+--------------+--------+---------+-------+---------+----------+--------+---------------------+------------+---------+-------+-------------------+--------------------+\n",
            "only showing top 20 rows\n",
            "\n"
          ]
        }
      ]
    },
    {
      "cell_type": "code",
      "source": [
        "vehicles = readFromAPI(\"https://api.carrismetropolitana.pt/vehicles\")\n",
        "vehicles.count()"
      ],
      "metadata": {
        "id": "YroZRLUCWwCk"
      },
      "execution_count": null,
      "outputs": []
    },
    {
      "cell_type": "code",
      "source": [
        "vehicles.show(20)"
      ],
      "metadata": {
        "id": "XkBmbcvFTKFG",
        "outputId": "515fe4da-bc80-440e-89ea-7afd5377af9f",
        "colab": {
          "base_uri": "https://localhost:8080/"
        }
      },
      "execution_count": 76,
      "outputs": [
        {
          "output_type": "stream",
          "name": "stdout",
          "text": [
            "+-------+--------------------+--------------+--------+------------------+-------+------------------+----------+--------+---------------------+------------+------------------+-------+----------+--------------------+\n",
            "|bearing|            block_id|current_status|      id|               lat|line_id|               lon|pattern_id|route_id|schedule_relationship|    shift_id|             speed|stop_id| timestamp|             trip_id|\n",
            "+-------+--------------------+--------------+--------+------------------+-------+------------------+----------+--------+---------------------+------------+------------------+-------+----------+--------------------+\n",
            "|    238|20241111-64010007...| IN_TRANSIT_TO|44|12665| 38.67307662963867|   4701|-8.973311424255371|  4701_0_1|  4701_0|            SCHEDULED|123410234560|15.277777777777777| 090177|1731346586|4701_0_1|1100|171...|\n",
            "|     79|20241111-64010263...|   INCOMING_AT|44|12578| 38.63596725463867|   4322| -8.87992000579834|  4322_0_2|  4322_0|            SCHEDULED|111230234560|12.222222222222221| 130428|1731346595|4322_0_2|1100|172...|\n",
            "|    201|20241111-64010009...| IN_TRANSIT_TO|44|12695| 38.73743438720703|   4702|-8.934011459350586|  4702_0_2|  4702_0|            SCHEDULED|123430234560| 21.11111111111111| 060005|1731346582|4702_0_2|1100|171...|\n",
            "|     26|20241111-64010221...| IN_TRANSIT_TO|44|12731| 38.52997970581055|   4420|-8.885886192321777|  4420_0_2|  4420_0|            SCHEDULED|112300234560|               0.0| 160213|1731346584|4420_0_2|1100|171...|\n",
            "|    318|20241111-64010199...| IN_TRANSIT_TO|44|12067| 38.53945541381836|   4404|-8.885459899902344|  4404_0_3|  4404_0|            SCHEDULED|112510234560|1.6666666666666665| 161003|1731346583|4404_0_3|1100|173...|\n",
            "|    255|20241111-64010160...|    STOPPED_AT|44|12708|38.736305236816406|   4725| -9.16044807434082|  4725_0_1|  4725_0|            SCHEDULED|113230234560|               0.0| 060017|1731346550|4725_0_1|1100|173...|\n",
            "|     61|20241111-64010329...| IN_TRANSIT_TO|44|12548| 38.60260009765625|   4524|-8.788615226745605|  4524_0_1|  4524_0|            SCHEDULED|111160234560|               0.0| 130176|1731346594|4524_0_1|1100|170...|\n",
            "|     34|20241111-64010089...| IN_TRANSIT_TO|44|12097|38.631195068359375|   4621|-9.101409912109375|  4621_0_1|  4621_0|            SCHEDULED|121570234560|2.7777777777777777| 140059|1731346587|4621_0_1|1100|163...|\n",
            "|    263|20241111-64010341...| IN_TRANSIT_TO|44|12086| 38.52290344238281|   4403|-8.892827987670898|  4403_0_2|  4403_0|            SCHEDULED|112350234560|               0.0| 160105|1731346584|4403_0_2|1100|174...|\n",
            "|    286|20241111-64010334...|   INCOMING_AT|44|12635| 38.63166427612305|   4530|-8.929545402526855|  4530_0_2|  4530_0|            SCHEDULED|111300234560|14.444444444444445| 130570|1731346590|4530_0_2|1100|170...|\n",
            "|      9|20241111-64010063...| IN_TRANSIT_TO|44|12518|38.706459045410156|   4514|-8.976572036743164|  4514_3_2|  4514_3|            SCHEDULED|121800234560|               2.5| 100029|1731346584|4514_3_2|1100|173...|\n",
            "|    311|20241111-64010584...| IN_TRANSIT_TO|44|12667| 38.72010803222656|   4705|-8.999561309814453|  4705_0_2|  4705_0|            SCHEDULED|123570234560|               0.0| 100283|1731346586|4705_0_2|1100|183...|\n",
            "|    348|20241111-64010324...|   INCOMING_AT|44|12064|38.529090881347656|   4412|-8.886298179626465|  4412_0_2|  4412_0|            SCHEDULED|111650234560| 4.444444444444445| 162003|1731346594|4412_0_2|1100|170...|\n",
            "|    248|20241111-64010196...| IN_TRANSIT_TO|44|12075|38.528358459472656|   4406|-8.889802932739258|  4406_1_1|  4406_1|            SCHEDULED|112540234560|               0.0| 160123|1731346587|4406_1_1|1100|170...|\n",
            "|     79|20241111-64010376...|   INCOMING_AT|44|12644|38.557525634765625|   4467|-9.017376899719238|  4467_0_1|  4467_0|            SCHEDULED|111390234560|14.722222222222221| 160908|1731346586|4467_0_1|1100|164...|\n",
            "|      8|20241111-64010020...|   INCOMING_AT|44|12664|38.731258392333984|   4702|-8.972526550292969|  4702_0_2|  4702_0|            SCHEDULED|123280234560| 7.222222222222222| 010066|1731346593|4702_0_2|1100|173...|\n",
            "|    108|20241111-64010205...| IN_TRANSIT_TO|44|12733| 38.53669738769531|   4422|-8.875091552734375|  4422_0_1|  4422_0|            SCHEDULED|112450234560|               0.0| 160149|1731346593|4422_0_1|1100|171...|\n",
            "|    155|20241111-64010151...| IN_TRANSIT_TO|44|12660| 38.71048355102539|   4710|-8.907692909240723|  4710_0_1|  4710_0|            SCHEDULED|113320234560|28.055555555555554| 130451|1731346585|4710_0_1|1100|171...|\n",
            "|     93|20241111-64010162...| IN_TRANSIT_TO|44|12706|38.530059814453125|   4906|-8.877699851989746|  4906_0_1|  4906_0|            SCHEDULED|113210234560| 5.555555555555555| 160275|1731346594|4906_0_1|1100|173...|\n",
            "|    289|20241111-64010294...| IN_TRANSIT_TO|44|12608| 38.52625274658203|   4641|  -8.8917236328125|  4641_0_2|  4641_0|            SCHEDULED|111290234560|               5.0| 160531|1731346592|4641_0_2|1100|173...|\n",
            "+-------+--------------------+--------------+--------+------------------+-------+------------------+----------+--------+---------------------+------------+------------------+-------+----------+--------------------+\n",
            "only showing top 20 rows\n",
            "\n"
          ]
        }
      ]
    },
    {
      "cell_type": "markdown",
      "source": [
        "### API - https://github.com/carrismetropolitana/api"
      ],
      "metadata": {
        "id": "4oONLIeBS8JQ"
      }
    },
    {
      "cell_type": "markdown",
      "source": [
        "### Exercises\n",
        "\n",
        "- Create an ETL process to monitor vehicles from Carris Metropolitana\n",
        "  - Read data from \"vehicles\" endpoint and writes into \"/content/output/vehicles\" as parquet\n",
        "  - Create  timestmap column to datetime (hh24:mi:ss)\n",
        "\n",
        "- Read data from \"stops\" endpoint and writes into \"/content/output/stops\" as parquet\n",
        "- Convert timestmap column to datetime (hh24:mi:ss)"
      ],
      "metadata": {
        "id": "0W18J6wMTAh7"
      }
    },
    {
      "cell_type": "markdown",
      "source": [],
      "metadata": {
        "id": "dihmSVfRTAc4"
      }
    },
    {
      "cell_type": "code",
      "source": [
        "from pyspark.sql.functions import *\n",
        "vehicles.filter(col(\"id\") == lit(\"42|2345\")).show()"
      ],
      "metadata": {
        "id": "rBK_TAnINHsm",
        "outputId": "69b2a895-4469-425b-f5a7-a5816eddbff5",
        "colab": {
          "base_uri": "https://localhost:8080/"
        }
      },
      "execution_count": 82,
      "outputs": [
        {
          "output_type": "stream",
          "name": "stdout",
          "text": [
            "+-------+--------+--------------+-------+----------------+-------+------------------+----------+--------+---------------------+--------+-----+-------+----------+--------------------+\n",
            "|bearing|block_id|current_status|     id|             lat|line_id|               lon|pattern_id|route_id|schedule_relationship|shift_id|speed|stop_id| timestamp|             trip_id|\n",
            "+-------+--------+--------------+-------+----------------+-------+------------------+----------+--------+---------------------+--------+-----+-------+----------+--------------------+\n",
            "|      0| 1059-11|    STOPPED_AT|42|2345|38.7675666809082|   2727|-9.100337028503418|  2727_0_1|  2727_0|            SCHEDULED|    1064|  0.0| 060207|1731346571|2727_0_1|1|1|1735...|\n",
            "+-------+--------+--------------+-------+----------------+-------+------------------+----------+--------+---------------------+--------+-----+-------+----------+--------------------+\n",
            "\n"
          ]
        }
      ]
    },
    {
      "cell_type": "code",
      "source": [],
      "metadata": {
        "id": "VCrjZajZT9UI"
      },
      "execution_count": null,
      "outputs": []
    }
  ],
  "metadata": {
    "colab": {
      "provenance": [],
      "include_colab_link": true
    },
    "kernelspec": {
      "display_name": "Python 3",
      "name": "python3"
    },
    "language_info": {
      "name": "python"
    }
  },
  "nbformat": 4,
  "nbformat_minor": 0
}
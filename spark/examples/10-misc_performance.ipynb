{
  "cells": [
    {
      "cell_type": "markdown",
      "metadata": {
        "id": "hyDay-zKVX3g"
      },
      "source": [
        "<a href=\"https://colab.research.google.com/github/lucprosa/dataeng-basic-course/blob/main/spark/examples/10-misc_performance.ipynb\" target=\"_parent\"><img src=\"https://colab.research.google.com/assets/colab-badge.svg\" alt=\"Open In Colab\"/></a>"
      ]
    },
    {
      "cell_type": "markdown",
      "metadata": {
        "id": "BOA_wQSmLd9z"
      },
      "source": [
        "# Miscellaneos Performance tricks\n",
        "- cache() & persist()\n",
        "- broadcast join\n",
        "- repartition & coalesce\n",
        "- explain"
      ]
    },
    {
      "cell_type": "markdown",
      "metadata": {
        "id": "d9LeYFsPTjAb"
      },
      "source": [
        "# Setting up PySpark"
      ]
    },
    {
      "cell_type": "code",
      "execution_count": null,
      "metadata": {
        "colab": {
          "base_uri": "https://localhost:8080/"
        },
        "id": "uYXeODL0T1fO",
        "outputId": "c410e46c-4a50-43aa-926f-d0417c6280d2"
      },
      "outputs": [
        {
          "name": "stdout",
          "output_type": "stream",
          "text": [
            "Requirement already satisfied: pyspark in /usr/local/lib/python3.10/dist-packages (3.5.3)\n",
            "Requirement already satisfied: py4j==0.10.9.7 in /usr/local/lib/python3.10/dist-packages (from pyspark) (0.10.9.7)\n"
          ]
        }
      ],
      "source": [
        "%pip install pyspark"
      ]
    },
    {
      "cell_type": "code",
      "execution_count": null,
      "metadata": {
        "id": "637HFw00T3LP"
      },
      "outputs": [],
      "source": [
        "from pyspark.sql import SparkSession\n",
        "spark = SparkSession.builder.master('local').appName('Spark Course').getOrCreate()"
      ]
    },
    {
      "cell_type": "markdown",
      "metadata": {
        "id": "Vj3Cg2riVX3m"
      },
      "source": [
        "# Preparing data"
      ]
    },
    {
      "cell_type": "code",
      "execution_count": 95,
      "metadata": {
        "id": "z-caHS2MVX3m"
      },
      "outputs": [],
      "source": [
        "from pyspark import SparkFiles\n",
        "from pyspark.sql.types import *\n",
        "\n",
        "# Setting up URLs\n",
        "squirrel_url = \"https://raw.githubusercontent.com/lucprosa/dataeng-basic-course/main/data/squirrel-data/squirrel-data.csv\"\n",
        "park_url = \"https://raw.githubusercontent.com/lucprosa/dataeng-basic-course/main/data/squirrel-data/park-data.csv\"\n",
        "\n",
        "\n",
        "# Defining schemas\n",
        "squirrel_schema = StructType([\n",
        "StructField('Area Name',StringType(),True),\n",
        "StructField('Area ID',StringType(),True),\n",
        "StructField('Park Name',StringType(),True),\n",
        "StructField('Park ID', StringType(), True),\n",
        "StructField('Squirrel ID', StringType(), True),\n",
        "StructField('Primary Fur Color', StringType(), True),\n",
        "StructField('Highlights in Fur Color', StringType(), True),\n",
        "StructField('Color Notes', StringType(), True),\n",
        "StructField('Location', StringType(), True),\n",
        "StructField('Above Ground (Height in Feet)', StringType(), True),\n",
        "StructField('Specific Location', StringType(), True),\n",
        "StructField('Activities', StringType(), True),\n",
        "StructField('Interactions with Humans', StringType(), True),\n",
        "StructField('Squirrel Latitude (DD.DDDDDD)', StringType(), True),\n",
        "StructField('Squirrel Longitude (-DD.DDDDDD)', StringType(), True)\n",
        "])\n",
        "\n",
        "park_schema = StructType([\n",
        "StructField('Area Name',StringType(),True),\n",
        "StructField('Area ID',StringType(),True),\n",
        "StructField('Park Name',StringType(),True),\n",
        "StructField('Park ID', StringType(), True),\n",
        "StructField('Date', StringType(), True),\n",
        "StructField('Start Time', StringType(), True),\n",
        "StructField('End Time', StringType(), True),\n",
        "StructField('Total Time (in minutes, if available)', StringType(), True),\n",
        "StructField('Park Conditions', StringType(), True),\n",
        "StructField('Other Animal Sightings', StringType(), True),\n",
        "StructField('Litter', StringType(), True),\n",
        "StructField('Activities', StringType(), True),\n",
        "StructField('Temperature & Weather', StringType(), True),\n",
        "StructField('Number of Squirrels', IntegerType(), True),\n",
        "StructField('Squirrel Sighter(s)', StringType(), True),\n",
        "StructField('Number of Sighters', IntegerType(), True)\n",
        "])\n",
        "\n",
        "area_schema = StructType([\n",
        "StructField('Area ID',StringType(),True),\n",
        "StructField('Area Name',StringType(),True),\n",
        "StructField('Area Description',StringType(),True),\n",
        "StructField('City Name',StringType(),True),\n",
        "])\n",
        "\n",
        "area_data = [\n",
        "    (\"A\", \"UPPER MANHATTAN\", \"Uptown Manhattan\", \"New York\"),\n",
        "    (\"B\", \"CENTRAL MANHATTAN\", \"Midtown Manhattan\", \"New York\"),\n",
        "    (\"C\", \"LOWER MANHATTAN\", \"Downtown Manhattan\", \"New York\"),\n",
        "    (\"D\", \"BROOKLYN\", \"Brooklyn\", \"New York\")\n",
        "    ]\n",
        "\n",
        "spark.sparkContext.addFile(squirrel_url)\n",
        "spark.sparkContext.addFile(park_url)\n",
        "\n",
        "# creating dataframes\n",
        "squirrel = spark.read.csv(SparkFiles.get(\"squirrel-data.csv\"), header=True, schema=squirrel_schema)\n",
        "park = spark.read.csv(SparkFiles.get(\"park-data.csv\"), header=True, schema=park_schema)\n",
        "area = spark.createDataFrame(data=area_data, schema=area_schema)"
      ]
    },
    {
      "cell_type": "code",
      "execution_count": null,
      "metadata": {
        "colab": {
          "base_uri": "https://localhost:8080/"
        },
        "id": "e1jkoWpweDqW",
        "outputId": "52af6423-af56-422e-886a-217b4e337639"
      },
      "outputs": [
        {
          "output_type": "stream",
          "name": "stdout",
          "text": [
            "+---------------+-------+-------------------+-------+-----------+-----------------+-----------------------+-----------+------------+-----------------------------+-----------------+--------------------+------------------------+-----------------------------+-------------------------------+\n",
            "|      Area Name|Area ID|          Park Name|Park ID|Squirrel ID|Primary Fur Color|Highlights in Fur Color|Color Notes|    Location|Above Ground (Height in Feet)|Specific Location|          Activities|Interactions with Humans|Squirrel Latitude (DD.DDDDDD)|Squirrel Longitude (-DD.DDDDDD)|\n",
            "+---------------+-------+-------------------+-------+-----------+-----------------+-----------------------+-----------+------------+-----------------------------+-----------------+--------------------+------------------------+-----------------------------+-------------------------------+\n",
            "|UPPER MANHATTAN|      A|    Fort Tryon Park|     01|    A-01-01|             Gray|                  White|       NULL|Ground Plane|                         NULL|             NULL|            Foraging|             Indifferent|                         NULL|                       40.85941|\n",
            "|UPPER MANHATTAN|      A|    Fort Tryon Park|     01|    A-01-02|             Gray|                  White|       NULL|Ground Plane|                         NULL|             NULL|            Foraging|             Indifferent|                 Looks skinny|                      40.859436|\n",
            "|UPPER MANHATTAN|      A|    Fort Tryon Park|     01|    A-01-03|             Gray|                  White|       NULL|Ground Plane|                         NULL|             NULL|Eating, Digging s...|             Indifferent|                         NULL|                      40.859416|\n",
            "|UPPER MANHATTAN|      A|    Fort Tryon Park|     01|    A-01-04|             Gray|                  White|       NULL|Ground Plane|                         NULL|             NULL|             Running|             Indifferent|                         NULL|                      40.859418|\n",
            "|UPPER MANHATTAN|      A|    Fort Tryon Park|     01|    A-01-05|             Gray|               Cinnamon|       NULL|Ground Plane|                         NULL|             NULL|     Running, Eating|             Indifferent|                She left food|                      40.859493|\n",
            "|UPPER MANHATTAN|      A|    Fort Tryon Park|     01|    A-01-06|             Gray|               Cinnamon|       NULL|Ground Plane|                         NULL|             NULL|            Climbing|             Indifferent|                         NULL|                      40.860825|\n",
            "|UPPER MANHATTAN|      A|    Fort Tryon Park|     01|    A-01-07|             Gray|                  White|       NULL|Ground Plane|                         NULL|             NULL|            Foraging|             Indifferent|                         NULL|                      40.860225|\n",
            "|UPPER MANHATTAN|      A|    Fort Tryon Park|     01|    A-01-08|            Black|                   Gray|       NULL|Above Ground|                           10|             NULL|            Climbing|               Runs From|                         NULL|                      40.859965|\n",
            "|UPPER MANHATTAN|      A|    Fort Tryon Park|     01|    A-01-09|             Gray|                  White|       NULL|Ground Plane|                         NULL|             NULL|            Foraging|             Indifferent|                         NULL|                      40.859892|\n",
            "|UPPER MANHATTAN|      A|    Fort Tryon Park|     01|    A-01-10|             Gray|                  White|       NULL|Ground Plane|                         NULL|             NULL|     Eating, Digging|             Indifferent|                         NULL|                      40.859636|\n",
            "|UPPER MANHATTAN|      A|    Fort Tryon Park|     01|    A-01-11|             Gray|                  Black|       NULL|Ground Plane|                         NULL|             NULL|     Eating, Digging|             Indifferent|         was intimidated b...|                      40.859576|\n",
            "|UPPER MANHATTAN|      A|    Fort Tryon Park|     01|    A-01-12|             Gray|                  White|       NULL|Ground Plane|                         NULL|             NULL|             Running|               Runs From|                         NULL|                      40.859989|\n",
            "|UPPER MANHATTAN|      A|J. Hood Wright Park|     02|    A-02-01|             Gray|                   Gray|       NULL|Ground Plane|                         NULL|             NULL|             Running|             Indifferent|                         NULL|                      40.845749|\n",
            "|UPPER MANHATTAN|      A|J. Hood Wright Park|     02|    A-02-02|             Gray|               Cinnamon|       NULL|Above Ground|                            2|             NULL|            Foraging|             Indifferent|                         NULL|                      40.845875|\n",
            "|UPPER MANHATTAN|      A|J. Hood Wright Park|     02|    A-02-03|             Gray|               Cinnamon|       NULL|Ground Plane|                         NULL|             NULL|            Foraging|                    NULL|                         NULL|                      40.845875|\n",
            "|UPPER MANHATTAN|      A|J. Hood Wright Park|     02|    A-02-04|             Gray|               Cinnamon|       NULL|Ground Plane|                         NULL|             NULL|             Running|             Indifferent|                         NULL|                      40.846088|\n",
            "|UPPER MANHATTAN|      A|J. Hood Wright Park|     02|    A-02-05|             Gray|               Cinnamon|       NULL|Ground Plane|                         NULL|             NULL|             Running|               Runs From|                         NULL|                      40.846088|\n",
            "|UPPER MANHATTAN|      A|J. Hood Wright Park|     02|    A-02-06|             Gray|               Cinnamon|       NULL|Ground Plane|                         NULL|             NULL|            Foraging|             Indifferent|                         NULL|                      40.846088|\n",
            "|UPPER MANHATTAN|      A|J. Hood Wright Park|     02|    A-02-07|             Gray|                   Gray|       NULL|Ground Plane|                         NULL|             NULL|                NULL|               Runs From|                         NULL|                      40.846222|\n",
            "|UPPER MANHATTAN|      A|J. Hood Wright Park|     02|    A-02-08|             Gray|               Cinnamon|       NULL|Ground Plane|                         NULL|             NULL|Foraging, Nesting...|             Indifferent|                         NULL|                      40.846222|\n",
            "+---------------+-------+-------------------+-------+-----------+-----------------+-----------------------+-----------+------------+-----------------------------+-----------------+--------------------+------------------------+-----------------------------+-------------------------------+\n",
            "only showing top 20 rows\n",
            "\n",
            "+-----------------+-------+--------------------+-------+------+----------+----------+-------------------------------------+--------------------+----------------------+--------------------+--------------------+---------------------+-------------------+-------------------+------------------+\n",
            "|        Area Name|Area ID|           Park Name|Park ID|  Date|Start Time|  End Time|Total Time (in minutes, if available)|     Park Conditions|Other Animal Sightings|              Litter|          Activities|Temperature & Weather|Number of Squirrels|Squirrel Sighter(s)|Number of Sighters|\n",
            "+-----------------+-------+--------------------+-------+------+----------+----------+-------------------------------------+--------------------+----------------------+--------------------+--------------------+---------------------+-------------------+-------------------+------------------+\n",
            "|  UPPER MANHATTAN|      A|     Fort Tryon Park|     01|3/1/20|3:14:00 PM|4:05:00 PM|                                   51|                Busy|  Humans, Dogs, Pig...|                Some|   43 degrees, sunny|                   12|               NULL|                  4|              NULL|\n",
            "|  UPPER MANHATTAN|      A| J. Hood Wright Park|     02|3/1/20|3:30:00 PM|4:00:00 PM|                                   30|                Calm|  Humans, Hawks, Do...|      Some, in trees|         cold, clear|                   24|               NULL|                  2|              NULL|\n",
            "|  UPPER MANHATTAN|      A|     Highbridge Park|     03|3/1/20|3:21:00 PM|4:15:00 PM|                                   54|Calm, pick-up bas...|  Humans, Dogs (3, ...|Some, especially ...|          43 degrees|                   16|               NULL|                  3|              NULL|\n",
            "|  UPPER MANHATTAN|      A|   St. Nicholas Park|     04|3/1/20|3:15:00 PM|3:45:00 PM|                                   30|                Calm|          Humans, Dogs|Some, backside of...|   43 degrees, clear|                   15|               NULL|                  3|              NULL|\n",
            "|  UPPER MANHATTAN|      A|Riverside Park (s...|     05|3/1/20|3:15:00 PM|3:45:00 PM|                                   30|                Calm|          Humans, Dogs|                NULL|                NULL|                   28|               NULL|                  3|              NULL|\n",
            "|  UPPER MANHATTAN|      A|  Marcus Garvey Park|     06|3/1/20|3:45:00 PM|4:15:00 PM|                                   30|Calm, re: humans,...|  Hawks, Dogs, Pigeons|            Abundant|   42 degrees, clear|                   34|                 16|                  1|              NULL|\n",
            "|CENTRAL MANHATTAN|      B| Madison Square Park|     07|3/1/20|2:30:00 PM|3:50:00 PM|                                   80|                Busy|  Humans, Dogs, Pig...|                NULL|   43 degrees, sunny|                   11|               NULL|                  4|              NULL|\n",
            "|CENTRAL MANHATTAN|      B|   Union Square Park|     08|3/1/20|3:15:00 PM|3:45:00 PM|                                   30|                Busy|  Humans, Dogs, Pig...|                NULL|   40 degrees, sunny|                   16|               NULL|                  4|              NULL|\n",
            "|CENTRAL MANHATTAN|      B|Stuyvesant Square...|     09|3/1/20|3:00:00 PM|4:00:00 PM|                                   60|Calm, 20���30 ppl...|  Humans, Dogs, Spa...|                Some|   45 degrees, sunny|                   25|               NULL|                  2|              NULL|\n",
            "|CENTRAL MANHATTAN|      B|Washington Square...|     10|3/1/20|3:20:00 PM|4:00:00 PM|                                   40|                Busy|          Humans, Dogs|                None|45 degrees, sunny...|                   51|               NULL|                  2|              NULL|\n",
            "|CENTRAL MANHATTAN|      B|Tompkins Square Park|     11|3/1/20|3:15:00 PM|3:45:00 PM|                                   30|                NULL|                  NULL|                NULL|                NULL|                   59|               NULL|                  2|              NULL|\n",
            "|CENTRAL MANHATTAN|      B|John V. Lindsay E...|     12|3/1/20|3:01:00 PM|3:45:00 PM|                                   44|                Calm|  Humans (Joggers, ...|                NULL|        windy, clear|                   12|                 31|                  1|              NULL|\n",
            "|  LOWER MANHATTAN|      C|Sara D. Roosevelt...|   13.1|3/1/20|3:30:00 PM|4:00:00 PM|                                   30|                Busy|   Humans, Dogs (Gray)|                Some|   44 degrees, sunny|                    0|               NULL|                  3|              NULL|\n",
            "|  LOWER MANHATTAN|      C|Sara D. Roosevelt...|   13.2|3/1/20|3:30:00 PM|4:00:00 PM|                                   30|                Busy|       Humans, Pigeons|                Some|   43 degrees, sunny|                    0|               NULL|                  3|              NULL|\n",
            "|  LOWER MANHATTAN|      C|         Seward Park|     14|3/1/20|3:25:00 PM|3:55:00 PM|                                   30|                Busy|       Humans, Pigeons|                Some|   40 degrees, sunny|                    7|               NULL|                  4|              NULL|\n",
            "|  LOWER MANHATTAN|      C|  Corlears Hook Park|     15|3/1/20|3:35:00 PM|4:15:00 PM|                                   40|                Calm|  Humans, Dogs, Pig...|Some, mostly in t...|   48 degrees, sunny|                   16|               NULL|                  3|              NULL|\n",
            "|  LOWER MANHATTAN|      C|       Columbus Park|     16|3/1/20|3:47:00 PM|4:38:00 PM|                                   51|                Busy|  Humans, Dogs, Pig...|                None|42 degrees, windy...|                    4|               NULL|                  2|              NULL|\n",
            "|  LOWER MANHATTAN|      C|   Thomas Paine Park|     17|3/1/20|3:35:00 PM|3:45:00 PM|                                   10|                Calm|  Humans, Dogs, Pig...|                None|42 degrees, windy...|                    0|               NULL|                  2|              NULL|\n",
            "|  LOWER MANHATTAN|      C|       Teardrop Park|     18|3/1/20|3:37:00 PM|4:00:00 PM|                                   23|                NULL|  Humans, Dogs, Fis...|                Some|43 degrees, sunny...|                    1|               NULL|                  2|              NULL|\n",
            "|  LOWER MANHATTAN|      C|      City Hall Park|     19|3/1/20|3:34:00 PM|4:04:00 PM|                                   30|                Calm|  Humans, Pigeons, Cat|                None|   44 degrees, sunny|                   18|               NULL|                  2|              NULL|\n",
            "+-----------------+-------+--------------------+-------+------+----------+----------+-------------------------------------+--------------------+----------------------+--------------------+--------------------+---------------------+-------------------+-------------------+------------------+\n",
            "only showing top 20 rows\n",
            "\n",
            "+-------+-----------------+------------------+---------+\n",
            "|Area ID|        Area Name|  Area Description|City Name|\n",
            "+-------+-----------------+------------------+---------+\n",
            "|      A|  UPPER MANHATTAN|  Uptown Manhattan| New York|\n",
            "|      B|CENTRAL MANHATTAN| Midtown Manhattan| New York|\n",
            "|      C|  LOWER MANHATTAN|Downtown Manhattan| New York|\n",
            "|      D|         BROOKLYN|          Brooklyn| New York|\n",
            "+-------+-----------------+------------------+---------+\n",
            "\n"
          ]
        }
      ],
      "source": [
        "# show data\n",
        "squirrel.show()\n",
        "park.show()\n",
        "area.show()"
      ]
    },
    {
      "cell_type": "markdown",
      "source": [
        "# Caching & Persist"
      ],
      "metadata": {
        "id": "9xipEQu1aUcx"
      }
    },
    {
      "cell_type": "code",
      "source": [
        "# Caching\n",
        "# Default: MEMORY_AND_DISK\n",
        "\n",
        "import uuid\n",
        "from pyspark.sql.functions import udf\n",
        "\n",
        "@udf\n",
        "def generate_uuid():\n",
        "  return str(uuid.uuid4())\n",
        "\n",
        "# transformation 1\n",
        "squirrel = squirrel.withColumn(\"hash_id\", generate_uuid())\n",
        "\n",
        "# transformation 2\n",
        "squirrel = squirrel.dropDuplicates()\n",
        "\n",
        "# squirrel.cache().count() <--------------- force an action to run the cache\n",
        "\n",
        "# transformations N\n",
        "# squirrel = squirrel.join...\n",
        "# squirrel = squirrel.groupBy...\n",
        "\n",
        "# DAG\n",
        "# T1 -> T2 -> T3...TN -> A1\n",
        "\n",
        "# action 1\n",
        "# squirrel.write.format(\"parquet\").path(\"path\")\n"
      ],
      "metadata": {
        "id": "mOOh51r6WmDj"
      },
      "execution_count": null,
      "outputs": []
    },
    {
      "cell_type": "code",
      "source": [
        "squirrel.is_cached"
      ],
      "metadata": {
        "id": "NTrdLhFlY0NU",
        "outputId": "6cd7feae-87d6-4803-9096-efeb53a8a335",
        "colab": {
          "base_uri": "https://localhost:8080/"
        }
      },
      "execution_count": null,
      "outputs": [
        {
          "output_type": "execute_result",
          "data": {
            "text/plain": [
              "True"
            ]
          },
          "metadata": {},
          "execution_count": 27
        }
      ]
    },
    {
      "cell_type": "code",
      "execution_count": null,
      "metadata": {
        "colab": {
          "base_uri": "https://localhost:8080/"
        },
        "id": "9yEpZwS_QtJ1",
        "outputId": "2fe78bf5-286a-4fe8-b697-7d17d0d5f04c"
      },
      "outputs": [
        {
          "output_type": "stream",
          "name": "stdout",
          "text": [
            "+-----------------+-------+--------------------+-------+-----------+-----------------+-----------------------+-----------+--------------------+-----------------------------+-----------------+--------------------+------------------------+-----------------------------+-------------------------------+--------------------+\n",
            "|        Area Name|Area ID|           Park Name|Park ID|Squirrel ID|Primary Fur Color|Highlights in Fur Color|Color Notes|            Location|Above Ground (Height in Feet)|Specific Location|          Activities|Interactions with Humans|Squirrel Latitude (DD.DDDDDD)|Squirrel Longitude (-DD.DDDDDD)|             hash_id|\n",
            "+-----------------+-------+--------------------+-------+-----------+-----------------+-----------------------+-----------+--------------------+-----------------------------+-----------------+--------------------+------------------------+-----------------------------+-------------------------------+--------------------+\n",
            "|  UPPER MANHATTAN|      A|Riverside Park (S...|     05|    A-05-28|             Gray|                   Gray|       NULL|        Ground Plane|                         NULL|             NULL|            Foraging|             Indifferent|                         NULL|                           NULL|3736c8c7-dd3a-43a...|\n",
            "|  UPPER MANHATTAN|      A|     Highbridge Park|     03|    A-03-13|             Gray|               Cinnamon|       NULL|        Ground Plane|                         NULL|             NULL|             Running|                    NULL|                         NULL|                           NULL|c4dc159c-3027-435...|\n",
            "|  UPPER MANHATTAN|      A|Riverside Park (S...|     05|    A-05-22|             Gray|                   Gray|       NULL|        Ground Plane|                         NULL|             NULL|             Chasing|                    NULL|                         NULL|                           NULL|13777973-4cb8-447...|\n",
            "|         BROOKLYN|      D|       McCarren Park|     22|    D-22-21|             Gray|        Cinnamon, White|       NULL|        Above Ground|                           15|             NULL|   Chasing, Climbing|             Indifferent|         Started in middle...|                      40.720582|aaa9a806-434c-4d8...|\n",
            "|  UPPER MANHATTAN|      A|Riverside Park (S...|     05|    A-05-06|             Gray|                   Gray|       NULL|        Above Ground|                           15|             NULL|   Sitting on branch|             Indifferent|                         NULL|                           NULL|bcff6672-d1e9-4e6...|\n",
            "|  LOWER MANHATTAN|      C|      City Hall Park|     19|    C-19-15|             Gray|                  White|       NULL|        Ground Plane|                         NULL|             NULL|             Running|                    NULL|         Very active, dart...|                      40.713518|866e58a7-3d46-44a...|\n",
            "|  UPPER MANHATTAN|      A| J. Hood Wright Park|     02|    A-02-20|             Gray|               Cinnamon|       NULL|        Ground Plane|                         NULL|             NULL|            Foraging|             Indifferent|                         NULL|                      40.847296|16a63195-624f-48a...|\n",
            "|CENTRAL MANHATTAN|      B|Washington Square...|     10|    B-10-13|             Gray|                   NULL|       NULL|        Ground Plane|                         NULL|             NULL|             Chasing|             Indifferent|                  Chasing #15|                           NULL|64cd8315-529e-480...|\n",
            "|  LOWER MANHATTAN|      C|      City Hall Park|     19|    C-19-05|             Gray|        Cinnamon, White|       NULL|        Ground Plane|                         NULL|             NULL|     Eating, Burying|              Approaches|         Couldn't find a g...|                      40.712893|7a96e635-fcc3-4e8...|\n",
            "|  UPPER MANHATTAN|      A|  Marcus Garvey Park|     06|    A-06-11|             Gray|                   Gray|       NULL|Above Ground, Spe...|                           26|      small trees|Chasing, Climbing...|             Indifferent|         2 were chasing ea...|                      40.804912|b5f27002-3981-435...|\n",
            "|CENTRAL MANHATTAN|      B|Washington Square...|     10|    B-10-06|             Gray|                   NULL|       NULL|                NULL|                         NULL|             NULL|                NULL|             Indifferent|         People eating at ...|                        40.7303|e5a30a67-df68-486...|\n",
            "|CENTRAL MANHATTAN|      B|Washington Square...|     10|    B-10-34|             Gray|                   NULL|       NULL|Above Ground, Spe...|                         NULL|     in tree high|                NULL|             Indifferent|                         NULL|                      40.731608|27832dcd-ab21-410...|\n",
            "|CENTRAL MANHATTAN|      B|Washington Square...|     10|    B-10-38|             Gray|                   NULL|       NULL|Above Ground, Spe...|                         NULL|        tree high|                NULL|             Indifferent|                         NULL|                      40.731936|4c699a36-d85b-446...|\n",
            "|  UPPER MANHATTAN|      A|Riverside Park (S...|     05|    A-05-01|             Gray|                   Gray|       NULL|        Ground Plane|                         NULL|             NULL|    Running, up tree|               Runs From|                         NULL|                           NULL|5d33b32e-8825-494...|\n",
            "|CENTRAL MANHATTAN|      B|Washington Square...|     10|    B-10-51|             Gray|                   NULL|       NULL|                NULL|                         NULL|             NULL|                NULL|             Indifferent|                         NULL|                      40.730782|b55f6410-ab1d-4c6...|\n",
            "|CENTRAL MANHATTAN|      B|Washington Square...|     10|    B-10-19|             Gray|                   NULL|       NULL|                NULL|                         NULL|             NULL|             Chasing|             Indifferent|                         NULL|                      40.729939|ba61d961-47de-4fd...|\n",
            "|         BROOKLYN|      D|       McCarren Park|     22|    D-22-35|         Cinnamon|               Cinnamon|       NULL|        Above Ground|                           15|             NULL|    Sleeping (Dead?)|                    NULL|         Curled up togethe...|                      40.721181|d7de3268-1954-4a3...|\n",
            "|         BROOKLYN|      D|       McCarren Park|     22|    D-22-18|         Cinnamon|               Cinnamon|       NULL|        Above Ground|                           14|             NULL|             Hanging|             Indifferent|            Perched on branch|                      40.722603|84feff09-844c-418...|\n",
            "|CENTRAL MANHATTAN|      B|Washington Square...|     10|    B-10-05|             Gray|                   NULL|       NULL|                NULL|                         NULL|             NULL|                NULL|             Indifferent|                         NULL|                      40.730341|22f63cf5-d476-4cb...|\n",
            "|         BROOKLYN|      D|       McCarren Park|     22|    D-22-05|         Cinnamon|                   NULL|       NULL|        Ground Plane|                         NULL|             NULL|             Running|              Approaches|               Running around|                      40.721941|cf662a23-bc85-4e1...|\n",
            "+-----------------+-------+--------------------+-------+-----------+-----------------+-----------------------+-----------+--------------------+-----------------------------+-----------------+--------------------+------------------------+-----------------------------+-------------------------------+--------------------+\n",
            "only showing top 20 rows\n",
            "\n"
          ]
        }
      ],
      "source": [
        "squirrel.show()"
      ]
    },
    {
      "cell_type": "code",
      "source": [
        "squirrel.unpersist()"
      ],
      "metadata": {
        "id": "Cyol21etZ4EO",
        "outputId": "c928f4f4-99f0-4269-a733-3d2cf353a149",
        "colab": {
          "base_uri": "https://localhost:8080/"
        }
      },
      "execution_count": null,
      "outputs": [
        {
          "output_type": "execute_result",
          "data": {
            "text/plain": [
              "DataFrame[Area Name: string, Area ID: string, Park Name: string, Park ID: string, Squirrel ID: string, Primary Fur Color: string, Highlights in Fur Color: string, Color Notes: string, Location: string, Above Ground (Height in Feet): string, Specific Location: string, Activities: string, Interactions with Humans: string, Squirrel Latitude (DD.DDDDDD): string, Squirrel Longitude (-DD.DDDDDD): string, hash_id: string]"
            ]
          },
          "metadata": {},
          "execution_count": 29
        }
      ]
    },
    {
      "cell_type": "code",
      "source": [
        "# Persist\n",
        "# Default: MEMORY_ONLY\n",
        "from pyspark.sql.functions import *\n",
        "from pyspark import StorageLevel\n",
        "\n",
        "# first execution plan\n",
        "print(area.explain(\"cost\"))\n",
        "\n",
        "area = area.withColumn(\"City shortname\", lit(\"NY\"))\n",
        "# second execution plan\n",
        "print(area.explain(\"cost\"))\n",
        "\n",
        "area = area.persist(StorageLevel.MEMORY_ONLY)\n",
        "area.count()\n",
        "\n",
        "# second execution plan\n",
        "area2 = area.withColumn(\"Teste\", lit(\"test\"))\n",
        "print(area2.explain(\"cost\"))\n",
        "\n",
        "print(area.storageLevel)\n",
        "print(area.is_cached)"
      ],
      "metadata": {
        "id": "cz63P4OGaR3T",
        "outputId": "35a170c8-4323-4f7d-e1cc-ecd0ef236e1f",
        "colab": {
          "base_uri": "https://localhost:8080/"
        }
      },
      "execution_count": null,
      "outputs": [
        {
          "output_type": "stream",
          "name": "stdout",
          "text": [
            "== Optimized Logical Plan ==\n",
            "LogicalRDD [Area ID#8963, Area Name#8964, Area Description#8965, City Name#8966], false, Statistics(sizeInBytes=8.0 EiB)\n",
            "\n",
            "== Physical Plan ==\n",
            "*(1) Scan ExistingRDD[Area ID#8963,Area Name#8964,Area Description#8965,City Name#8966]\n",
            "\n",
            "\n",
            "None\n",
            "== Optimized Logical Plan ==\n",
            "Project [Area ID#8963, Area Name#8964, Area Description#8965, City Name#8966, NY AS City shortname#8971], Statistics(sizeInBytes=9.8 EiB)\n",
            "+- LogicalRDD [Area ID#8963, Area Name#8964, Area Description#8965, City Name#8966], false, Statistics(sizeInBytes=8.0 EiB)\n",
            "\n",
            "== Physical Plan ==\n",
            "*(1) Project [Area ID#8963, Area Name#8964, Area Description#8965, City Name#8966, NY AS City shortname#8971]\n",
            "+- *(1) Scan ExistingRDD[Area ID#8963,Area Name#8964,Area Description#8965,City Name#8966]\n",
            "\n",
            "\n",
            "None\n",
            "== Optimized Logical Plan ==\n",
            "Project [Area ID#8963, Area Name#8964, Area Description#8965, City Name#8966, City shortname#8971, test AS Teste#9137], Statistics(sizeInBytes=282.0 B)\n",
            "+- InMemoryRelation [Area ID#8963, Area Name#8964, Area Description#8965, City Name#8966, City shortname#8971], StorageLevel(memory, 1 replicas), Statistics(sizeInBytes=238.0 B, rowCount=4)\n",
            "      +- *(1) Project [Area ID#8963, Area Name#8964, Area Description#8965, City Name#8966, NY AS City shortname#8971]\n",
            "         +- *(1) Scan ExistingRDD[Area ID#8963,Area Name#8964,Area Description#8965,City Name#8966]\n",
            "\n",
            "== Physical Plan ==\n",
            "AdaptiveSparkPlan isFinalPlan=false\n",
            "+- Project [Area ID#8963, Area Name#8964, Area Description#8965, City Name#8966, City shortname#8971, test AS Teste#9137]\n",
            "   +- InMemoryTableScan [Area Description#8965, Area ID#8963, Area Name#8964, City Name#8966, City shortname#8971]\n",
            "         +- InMemoryRelation [Area ID#8963, Area Name#8964, Area Description#8965, City Name#8966, City shortname#8971], StorageLevel(memory, 1 replicas)\n",
            "               +- *(1) Project [Area ID#8963, Area Name#8964, Area Description#8965, City Name#8966, NY AS City shortname#8971]\n",
            "                  +- *(1) Scan ExistingRDD[Area ID#8963,Area Name#8964,Area Description#8965,City Name#8966]\n",
            "\n",
            "\n",
            "None\n",
            "Memory Serialized 1x Replicated\n",
            "True\n"
          ]
        }
      ]
    },
    {
      "cell_type": "code",
      "source": [
        "# Persist\n",
        "# Default: MEMORY_AND_DISK\n",
        "\n",
        "from pyspark.sql.functions import *\n",
        "from pyspark import StorageLevel\n",
        "\n",
        "# first execution plan\n",
        "print(area.explain(\"cost\"))\n",
        "\n",
        "area = area.withColumn(\"City shortname\", lit(\"NY\"))\n",
        "# second execution plan\n",
        "print(area.explain(\"cost\"))\n",
        "\n",
        "area = area.persist(StorageLevel.DISK_ONLY)\n",
        "area.count()\n",
        "\n",
        "# second execution plan\n",
        "area2 = area.withColumn(\"Teste\", lit(\"test\"))\n",
        "print(area2.explain(\"cost\"))\n",
        "\n",
        "print(area.storageLevel)\n",
        "print(area.is_cached)"
      ],
      "metadata": {
        "id": "Y8lWwqd4bK5Z",
        "outputId": "b92a6dde-8956-42ec-f42b-1321644847c3",
        "colab": {
          "base_uri": "https://localhost:8080/"
        }
      },
      "execution_count": null,
      "outputs": [
        {
          "output_type": "stream",
          "name": "stdout",
          "text": [
            "== Optimized Logical Plan ==\n",
            "LogicalRDD [Area ID#9281, Area Name#9282, Area Description#9283, City Name#9284], false, Statistics(sizeInBytes=8.0 EiB)\n",
            "\n",
            "== Physical Plan ==\n",
            "*(1) Scan ExistingRDD[Area ID#9281,Area Name#9282,Area Description#9283,City Name#9284]\n",
            "\n",
            "\n",
            "None\n",
            "== Optimized Logical Plan ==\n",
            "Project [Area ID#9281, Area Name#9282, Area Description#9283, City Name#9284, NY AS City shortname#9289], Statistics(sizeInBytes=9.8 EiB)\n",
            "+- LogicalRDD [Area ID#9281, Area Name#9282, Area Description#9283, City Name#9284], false, Statistics(sizeInBytes=8.0 EiB)\n",
            "\n",
            "== Physical Plan ==\n",
            "*(1) Project [Area ID#9281, Area Name#9282, Area Description#9283, City Name#9284, NY AS City shortname#9289]\n",
            "+- *(1) Scan ExistingRDD[Area ID#9281,Area Name#9282,Area Description#9283,City Name#9284]\n",
            "\n",
            "\n",
            "None\n",
            "== Optimized Logical Plan ==\n",
            "Project [Area ID#9281, Area Name#9282, Area Description#9283, City Name#9284, City shortname#9289, test AS Teste#9455], Statistics(sizeInBytes=282.0 B)\n",
            "+- InMemoryRelation [Area ID#9281, Area Name#9282, Area Description#9283, City Name#9284, City shortname#9289], StorageLevel(disk, 1 replicas), Statistics(sizeInBytes=238.0 B, rowCount=4)\n",
            "      +- *(1) Project [Area ID#9281, Area Name#9282, Area Description#9283, City Name#9284, NY AS City shortname#9289]\n",
            "         +- *(1) Scan ExistingRDD[Area ID#9281,Area Name#9282,Area Description#9283,City Name#9284]\n",
            "\n",
            "== Physical Plan ==\n",
            "AdaptiveSparkPlan isFinalPlan=false\n",
            "+- Project [Area ID#9281, Area Name#9282, Area Description#9283, City Name#9284, City shortname#9289, test AS Teste#9455]\n",
            "   +- InMemoryTableScan [Area Description#9283, Area ID#9281, Area Name#9282, City Name#9284, City shortname#9289]\n",
            "         +- InMemoryRelation [Area ID#9281, Area Name#9282, Area Description#9283, City Name#9284, City shortname#9289], StorageLevel(disk, 1 replicas)\n",
            "               +- *(1) Project [Area ID#9281, Area Name#9282, Area Description#9283, City Name#9284, NY AS City shortname#9289]\n",
            "                  +- *(1) Scan ExistingRDD[Area ID#9281,Area Name#9282,Area Description#9283,City Name#9284]\n",
            "\n",
            "\n",
            "None\n",
            "Disk Serialized 1x Replicated\n",
            "True\n"
          ]
        }
      ]
    },
    {
      "cell_type": "markdown",
      "source": [
        "# Broadcast Join"
      ],
      "metadata": {
        "id": "jG6-tBXIocwm"
      }
    },
    {
      "cell_type": "code",
      "execution_count": null,
      "metadata": {
        "id": "Tshz4hV3S2Tx",
        "outputId": "2413a380-615c-4fc7-ece7-05bbc034135d",
        "colab": {
          "base_uri": "https://localhost:8080/"
        }
      },
      "outputs": [
        {
          "output_type": "stream",
          "name": "stdout",
          "text": [
            "== Physical Plan ==\n",
            "AdaptiveSparkPlan isFinalPlan=false\n",
            "+- Project [Area Description#9601, Park Name#9569, Date#9571, Squirrel ID#9541]\n",
            "   +- BroadcastHashJoin [Area ID#9538], [Area ID#9599], Inner, BuildLeft, false\n",
            "      :- BroadcastExchange HashedRelationBroadcastMode(List(input[0, string, true]),false), [plan_id=2709]\n",
            "      :  +- Project [Area ID#9538, Squirrel ID#9541, Park Name#9569, Date#9571]\n",
            "      :     +- BroadcastHashJoin [Park ID#9540], [Park ID#9570], Inner, BuildRight, false\n",
            "      :        :- Filter (isnotnull(Park ID#9540) AND isnotnull(Area ID#9538))\n",
            "      :        :  +- FileScan csv [Area ID#9538,Park ID#9540,Squirrel ID#9541] Batched: false, DataFilters: [isnotnull(Park ID#9540), isnotnull(Area ID#9538)], Format: CSV, Location: InMemoryFileIndex(1 paths)[file:/tmp/spark-31813046-797b-4314-98aa-b95bc5780a64/userFiles-61996ce..., PartitionFilters: [], PushedFilters: [IsNotNull(Park ID), IsNotNull(Area ID)], ReadSchema: struct<Area ID:string,Park ID:string,Squirrel ID:string>\n",
            "      :        +- BroadcastExchange HashedRelationBroadcastMode(List(input[1, string, false]),false), [plan_id=2705]\n",
            "      :           +- Filter isnotnull(Park ID#9570)\n",
            "      :              +- FileScan csv [Park Name#9569,Park ID#9570,Date#9571] Batched: false, DataFilters: [isnotnull(Park ID#9570)], Format: CSV, Location: InMemoryFileIndex(1 paths)[file:/tmp/spark-31813046-797b-4314-98aa-b95bc5780a64/userFiles-61996ce..., PartitionFilters: [], PushedFilters: [IsNotNull(Park ID)], ReadSchema: struct<Park Name:string,Park ID:string,Date:string>\n",
            "      +- Project [Area ID#9599, Area Description#9601]\n",
            "         +- Filter isnotnull(Area ID#9599)\n",
            "            +- Scan ExistingRDD[Area ID#9599,Area Name#9600,Area Description#9601,City Name#9602]\n",
            "\n",
            "\n",
            "+----------------+------------------+------+-----------+\n",
            "|Area Description|         Park Name|  Date|Squirrel ID|\n",
            "+----------------+------------------+------+-----------+\n",
            "|Uptown Manhattan|Marcus Garvey Park|3/1/20|    A-06-34|\n",
            "|Uptown Manhattan|Marcus Garvey Park|3/1/20|    A-06-33|\n",
            "|Uptown Manhattan|Marcus Garvey Park|3/1/20|    A-06-32|\n",
            "|Uptown Manhattan|Marcus Garvey Park|3/1/20|    A-06-31|\n",
            "|Uptown Manhattan|Marcus Garvey Park|3/1/20|    A-06-30|\n",
            "|Uptown Manhattan|Marcus Garvey Park|3/1/20|    A-06-29|\n",
            "|Uptown Manhattan|Marcus Garvey Park|3/1/20|    A-06-28|\n",
            "|Uptown Manhattan|Marcus Garvey Park|3/1/20|    A-06-27|\n",
            "|Uptown Manhattan|Marcus Garvey Park|3/1/20|    A-06-26|\n",
            "|Uptown Manhattan|Marcus Garvey Park|3/1/20|    A-06-25|\n",
            "|Uptown Manhattan|Marcus Garvey Park|3/1/20|    A-06-24|\n",
            "|Uptown Manhattan|Marcus Garvey Park|3/1/20|    A-06-23|\n",
            "|Uptown Manhattan|Marcus Garvey Park|3/1/20|    A-06-22|\n",
            "|Uptown Manhattan|Marcus Garvey Park|3/1/20|    A-06-21|\n",
            "|Uptown Manhattan|Marcus Garvey Park|3/1/20|    A-06-20|\n",
            "|Uptown Manhattan|Marcus Garvey Park|3/1/20|    A-06-19|\n",
            "|Uptown Manhattan|Marcus Garvey Park|3/1/20|    A-06-18|\n",
            "|Uptown Manhattan|Marcus Garvey Park|3/1/20|    A-06-17|\n",
            "|Uptown Manhattan|Marcus Garvey Park|3/1/20|    A-06-16|\n",
            "|Uptown Manhattan|Marcus Garvey Park|3/1/20|    A-06-15|\n",
            "+----------------+------------------+------+-----------+\n",
            "only showing top 20 rows\n",
            "\n"
          ]
        }
      ],
      "source": [
        "# Broadcast join\n",
        "# identify the tables candidates for broadcast (smaller one)\n",
        "\n",
        "join_df = (squirrel\n",
        "           .join(park, on=\"Park ID\", how=\"inner\")\n",
        "           .join(area, on=\"Area ID\", how=\"inner\")\n",
        "           .select(area[\"Area Description\"], park[\"Park Name\"], park[\"Date\"], squirrel[\"Squirrel ID\"])\n",
        "           )\n",
        "\n",
        "join_df.explain()\n",
        "join_df.show()"
      ]
    },
    {
      "cell_type": "markdown",
      "source": [
        "# Repartition & Coalesce\n",
        "\n",
        "- coalesce is for reducing partitions without shuffling\n",
        "- repartition is for distributing data evenly across the cluster for better parallelism\n",
        "\n",
        "- if possible choose coalesce over repartition\n",
        "- if needed to increase partitions to increase parallelism, use repartition, however keep the data shuffling operation in mind\n",
        "\n"
      ],
      "metadata": {
        "id": "K5wkJmgQs8UX"
      }
    },
    {
      "cell_type": "code",
      "source": [
        "squirrel_1 = squirrel\n",
        "squirrel_2 = squirrel\n",
        "\n",
        "# Check partitions\n",
        "squirrel_1.rdd.getNumPartitions()\n",
        "\n",
        "# RDD -> partitions among the workers"
      ],
      "metadata": {
        "id": "EitF3d_es8Fo",
        "outputId": "b6c5b36a-36ba-4f78-bb60-4579e657d144",
        "colab": {
          "base_uri": "https://localhost:8080/"
        }
      },
      "execution_count": 122,
      "outputs": [
        {
          "output_type": "execute_result",
          "data": {
            "text/plain": [
              "1"
            ]
          },
          "metadata": {},
          "execution_count": 122
        }
      ]
    },
    {
      "cell_type": "code",
      "source": [
        "# repartition\n",
        "# evenly distribute date across partitions for better parallel processing efficiency\n",
        "# increase AND reduce partitions\n",
        "# do shuffling\n",
        "\n",
        "print(f\"before repartition: {squirrel_1.rdd.getNumPartitions()}\")\n",
        "squirrel_1 = squirrel_1.repartition(4)\n",
        "print(f\"after repartition: {squirrel_1.rdd.getNumPartitions()}\")"
      ],
      "metadata": {
        "id": "wKBD2qXCtzwO",
        "colab": {
          "base_uri": "https://localhost:8080/"
        },
        "outputId": "70099a0e-c0f1-486d-c149-b0a067b7c565"
      },
      "execution_count": 123,
      "outputs": [
        {
          "output_type": "stream",
          "name": "stdout",
          "text": [
            "before repartition: 1\n",
            "after repartition: 4\n"
          ]
        }
      ]
    },
    {
      "cell_type": "code",
      "source": [
        "# coalesce\n",
        "# reduce partitions without shuffling\n",
        "# minimizes data movement across the cluster\n",
        "\n",
        "# does not allow to increase partitions, only reduce\n",
        "print(f\"before coalesce: {squirrel_2.rdd.getNumPartitions()}\")\n",
        "squirrel_2 = squirrel_2.coalesce(5)\n",
        "print(f\"after coalesce: {squirrel_2.rdd.getNumPartitions()}\")\n"
      ],
      "metadata": {
        "colab": {
          "base_uri": "https://localhost:8080/"
        },
        "id": "72Mk2UJwLEKv",
        "outputId": "54ecc475-2d86-406b-f925-d46beb9364ec"
      },
      "execution_count": 124,
      "outputs": [
        {
          "output_type": "stream",
          "name": "stdout",
          "text": [
            "before coalesce: 1\n",
            "after coalesce: 1\n"
          ]
        }
      ]
    },
    {
      "cell_type": "code",
      "source": [
        "print(f\"before coalesce: {squirrel_1.rdd.getNumPartitions()}\")\n",
        "squirrel_1 = squirrel_1.coalesce(2)\n",
        "print(f\"after coalesce: {squirrel_1.rdd.getNumPartitions()}\")"
      ],
      "metadata": {
        "colab": {
          "base_uri": "https://localhost:8080/"
        },
        "id": "6ER9DqONMKE2",
        "outputId": "4b705b2a-5e1c-402f-cd6d-1882b405977e"
      },
      "execution_count": 125,
      "outputs": [
        {
          "output_type": "stream",
          "name": "stdout",
          "text": [
            "before coalesce: 4\n",
            "after coalesce: 2\n"
          ]
        }
      ]
    },
    {
      "cell_type": "code",
      "source": [
        "# repartition/coalesce and writing data\n",
        "!rm -rf /content/files/area\n",
        "!mkdir -p /content/files/area\n",
        "\n",
        "# repartition \"area\" dataframe and write as parquet\n",
        "area.repartition(3).write.format(\"parquet\").mode(\"overwrite\").save(\"/content/files/area\")"
      ],
      "metadata": {
        "id": "IR5COTOyPT_t"
      },
      "execution_count": 132,
      "outputs": []
    },
    {
      "cell_type": "code",
      "source": [
        "# check files and their content\n",
        "\n",
        "files = [\"part-00000-545ec3be-e2e3-4d52-8b70-650e206fa671-c000.snappy.parquet\",\n",
        "         \"part-00001-545ec3be-e2e3-4d52-8b70-650e206fa671-c000.snappy.parquet\",\n",
        "         \"part-00002-545ec3be-e2e3-4d52-8b70-650e206fa671-c000.snappy.parquet\"]\n",
        "folder = \"/content/files/area/\"\n",
        "\n",
        "for f in files:\n",
        "  df = spark.read.parquet(f\"{folder}{f}\")\n",
        "  print(f\"{f} - {df.count()} rows\")"
      ],
      "metadata": {
        "colab": {
          "base_uri": "https://localhost:8080/"
        },
        "id": "bl3NMEx6PhYV",
        "outputId": "68bfc50b-5a64-4d97-f5c9-c72a1f30faf2"
      },
      "execution_count": 140,
      "outputs": [
        {
          "output_type": "stream",
          "name": "stdout",
          "text": [
            "part-00000-545ec3be-e2e3-4d52-8b70-650e206fa671-c000.snappy.parquet - 2 rows\n",
            "part-00001-545ec3be-e2e3-4d52-8b70-650e206fa671-c000.snappy.parquet - 1 rows\n",
            "part-00002-545ec3be-e2e3-4d52-8b70-650e206fa671-c000.snappy.parquet - 1 rows\n"
          ]
        }
      ]
    },
    {
      "cell_type": "code",
      "source": [
        "# Check file sizes\n",
        "!ls -lah /content/files/area"
      ],
      "metadata": {
        "colab": {
          "base_uri": "https://localhost:8080/"
        },
        "id": "n5H-rpwqQS_M",
        "outputId": "2d1ea294-54b5-4be8-afc6-a68b314c5256"
      },
      "execution_count": 143,
      "outputs": [
        {
          "output_type": "stream",
          "name": "stdout",
          "text": [
            "total 36K\n",
            "drwxr-xr-x 2 root root 4.0K Nov 14 15:17 .\n",
            "drwxr-xr-x 3 root root 4.0K Nov 14 15:17 ..\n",
            "-rw-r--r-- 1 root root 1.4K Nov 14 15:17 part-00000-545ec3be-e2e3-4d52-8b70-650e206fa671-c000.snappy.parquet\n",
            "-rw-r--r-- 1 root root   20 Nov 14 15:17 .part-00000-545ec3be-e2e3-4d52-8b70-650e206fa671-c000.snappy.parquet.crc\n",
            "-rw-r--r-- 1 root root 1.4K Nov 14 15:17 part-00001-545ec3be-e2e3-4d52-8b70-650e206fa671-c000.snappy.parquet\n",
            "-rw-r--r-- 1 root root   20 Nov 14 15:17 .part-00001-545ec3be-e2e3-4d52-8b70-650e206fa671-c000.snappy.parquet.crc\n",
            "-rw-r--r-- 1 root root 1.4K Nov 14 15:17 part-00002-545ec3be-e2e3-4d52-8b70-650e206fa671-c000.snappy.parquet\n",
            "-rw-r--r-- 1 root root   20 Nov 14 15:17 .part-00002-545ec3be-e2e3-4d52-8b70-650e206fa671-c000.snappy.parquet.crc\n",
            "-rw-r--r-- 1 root root    0 Nov 14 15:17 _SUCCESS\n",
            "-rw-r--r-- 1 root root    8 Nov 14 15:17 ._SUCCESS.crc\n"
          ]
        }
      ]
    },
    {
      "cell_type": "markdown",
      "source": [
        "# Question"
      ],
      "metadata": {
        "id": "aVyWuRHiR--p"
      }
    },
    {
      "cell_type": "code",
      "source": [
        "# Q1\n",
        "# read data from /content/files/area (3 parquet files)\n",
        "# write again the data into the same folder making sure the output will be only one file"
      ],
      "metadata": {
        "id": "hLjzGtv-Rou1"
      },
      "execution_count": null,
      "outputs": []
    }
  ],
  "metadata": {
    "colab": {
      "provenance": [],
      "toc_visible": true
    },
    "kernelspec": {
      "display_name": "Python 3",
      "name": "python3"
    },
    "language_info": {
      "name": "python"
    }
  },
  "nbformat": 4,
  "nbformat_minor": 0
}
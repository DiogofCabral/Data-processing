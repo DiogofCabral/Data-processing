{
 "cells": [
  {
   "cell_type": "markdown",
   "metadata": {
    "id": "hyDay-zKVX3g"
   },
   "source": [
    "<a href=\"https://colab.research.google.com/github/lucprosa/dataeng-basic-course/blob/main/spark/examples/10-misc_performance.ipynb\" target=\"_parent\"><img src=\"https://colab.research.google.com/assets/colab-badge.svg\" alt=\"Open In Colab\"/></a>"
   ]
  },
  {
   "cell_type": "markdown",
   "metadata": {
    "id": "BOA_wQSmLd9z"
   },
   "source": [
    "# Performance tricks\n",
    "- cache() & persist()\n",
    "- broadcast join\n",
    "- repartition & coalesce\n",
    "- explain"
   ]
  },
  {
   "cell_type": "markdown",
   "metadata": {
    "id": "d9LeYFsPTjAb"
   },
   "source": [
    "# Setting up PySpark"
   ]
  },
  {
   "cell_type": "code",
   "execution_count": null,
   "metadata": {
    "colab": {
     "base_uri": "https://localhost:8080/"
    },
    "id": "uYXeODL0T1fO",
    "outputId": "c410e46c-4a50-43aa-926f-d0417c6280d2"
   },
   "outputs": [
    {
     "name": "stdout",
     "output_type": "stream",
     "text": [
      "Requirement already satisfied: pyspark in /usr/local/lib/python3.10/dist-packages (3.5.3)\n",
      "Requirement already satisfied: py4j==0.10.9.7 in /usr/local/lib/python3.10/dist-packages (from pyspark) (0.10.9.7)\n"
     ]
    }
   ],
   "source": [
    "%pip install pyspark"
   ]
  },
  {
   "cell_type": "code",
   "execution_count": 6,
   "metadata": {
    "id": "637HFw00T3LP"
   },
   "outputs": [],
   "source": [
    "from pyspark.sql import SparkSession\n",
    "spark = SparkSession.builder.master('local').appName('Spark Course').getOrCreate()"
   ]
  },
  {
   "cell_type": "markdown",
   "metadata": {
    "id": "Vj3Cg2riVX3m"
   },
   "source": [
    "# Preparing data"
   ]
  },
  {
   "cell_type": "code",
   "execution_count": 3,
   "metadata": {
    "id": "z-caHS2MVX3m"
   },
   "outputs": [],
   "source": [
    "from pyspark import SparkFiles\n",
    "from pyspark.sql.types import *\n",
    "\n",
    "# Setting up URLs\n",
    "squirrel_url = \"https://raw.githubusercontent.com/lucprosa/dataeng-basic-course/main/data/squirrel-data/squirrel-data.csv\"\n",
    "park_url = \"https://raw.githubusercontent.com/lucprosa/dataeng-basic-course/main/data/squirrel-data/park-data.csv\"\n",
    "\n",
    "\n",
    "# Defining schemas\n",
    "squirrel_schema = StructType([\n",
    "StructField('Area Name',StringType(),True),\n",
    "StructField('Area ID',StringType(),True),\n",
    "StructField('Park Name',StringType(),True),\n",
    "StructField('Park ID', StringType(), True),\n",
    "StructField('Squirrel ID', StringType(), True),\n",
    "StructField('Primary Fur Color', StringType(), True),\n",
    "StructField('Highlights in Fur Color', StringType(), True),\n",
    "StructField('Color Notes', StringType(), True),\n",
    "StructField('Location', StringType(), True),\n",
    "StructField('Above Ground (Height in Feet)', StringType(), True),\n",
    "StructField('Specific Location', StringType(), True),\n",
    "StructField('Activities', StringType(), True),\n",
    "StructField('Interactions with Humans', StringType(), True),\n",
    "StructField('Squirrel Latitude (DD.DDDDDD)', StringType(), True),\n",
    "StructField('Squirrel Longitude (-DD.DDDDDD)', StringType(), True)\n",
    "])\n",
    "\n",
    "park_schema = StructType([\n",
    "StructField('Area Name',StringType(),True),\n",
    "StructField('Area ID',StringType(),True),\n",
    "StructField('Park Name',StringType(),True),\n",
    "StructField('Park ID', StringType(), True),\n",
    "StructField('Date', StringType(), True),\n",
    "StructField('Start Time', StringType(), True),\n",
    "StructField('End Time', StringType(), True),\n",
    "StructField('Total Time (in minutes, if available)', StringType(), True),\n",
    "StructField('Park Conditions', StringType(), True),\n",
    "StructField('Other Animal Sightings', StringType(), True),\n",
    "StructField('Litter', StringType(), True),\n",
    "StructField('Activities', StringType(), True),\n",
    "StructField('Temperature & Weather', StringType(), True),\n",
    "StructField('Number of Squirrels', IntegerType(), True),\n",
    "StructField('Squirrel Sighter(s)', StringType(), True),\n",
    "StructField('Number of Sighters', IntegerType(), True)\n",
    "])\n",
    "\n",
    "area_schema = StructType([\n",
    "StructField('Area ID',StringType(),True),\n",
    "StructField('Area Name',StringType(),True),\n",
    "StructField('Area Description',StringType(),True),\n",
    "StructField('City Name',StringType(),True),\n",
    "])\n",
    "\n",
    "area_data = [\n",
    "    (\"A\", \"UPPER MANHATTAN\", \"Uptown Manhattan\", \"New York\"),\n",
    "    (\"B\", \"CENTRAL MANHATTAN\", \"Midtown Manhattan\", \"New York\"),\n",
    "    (\"C\", \"LOWER MANHATTAN\", \"Downtown Manhattan\", \"New York\"),\n",
    "    (\"D\", \"BROOKLYN\", \"Brooklyn\", \"New York\")\n",
    "    ]\n",
    "\n",
    "spark.sparkContext.addFile(squirrel_url)\n",
    "spark.sparkContext.addFile(park_url)\n",
    "\n",
    "# creating dataframes\n",
    "squirrel = spark.read.csv(SparkFiles.get(\"squirrel-data.csv\"), header=True, schema=squirrel_schema)\n",
    "park = spark.read.csv(SparkFiles.get(\"park-data.csv\"), header=True, schema=park_schema)\n",
    "area = spark.createDataFrame(data=area_data, schema=area_schema)"
   ]
  },
  {
   "cell_type": "code",
   "execution_count": 3,
   "metadata": {
    "colab": {
     "base_uri": "https://localhost:8080/"
    },
    "id": "e1jkoWpweDqW",
    "outputId": "6cbf27d5-a1d9-49b6-94b8-99a14f1bfa51"
   },
   "outputs": [
    {
     "name": "stdout",
     "output_type": "stream",
     "text": [
      "+---------------+-------+-------------------+-------+-----------+-----------------+-----------------------+-----------+------------+-----------------------------+-----------------+--------------------+------------------------+-----------------------------+-------------------------------+\n",
      "|      Area Name|Area ID|          Park Name|Park ID|Squirrel ID|Primary Fur Color|Highlights in Fur Color|Color Notes|    Location|Above Ground (Height in Feet)|Specific Location|          Activities|Interactions with Humans|Squirrel Latitude (DD.DDDDDD)|Squirrel Longitude (-DD.DDDDDD)|\n",
      "+---------------+-------+-------------------+-------+-----------+-----------------+-----------------------+-----------+------------+-----------------------------+-----------------+--------------------+------------------------+-----------------------------+-------------------------------+\n",
      "|UPPER MANHATTAN|      A|    Fort Tryon Park|     01|    A-01-01|             Gray|                  White|       NULL|Ground Plane|                         NULL|             NULL|            Foraging|             Indifferent|                         NULL|                       40.85941|\n",
      "|UPPER MANHATTAN|      A|    Fort Tryon Park|     01|    A-01-02|             Gray|                  White|       NULL|Ground Plane|                         NULL|             NULL|            Foraging|             Indifferent|                 Looks skinny|                      40.859436|\n",
      "|UPPER MANHATTAN|      A|    Fort Tryon Park|     01|    A-01-03|             Gray|                  White|       NULL|Ground Plane|                         NULL|             NULL|Eating, Digging s...|             Indifferent|                         NULL|                      40.859416|\n",
      "|UPPER MANHATTAN|      A|    Fort Tryon Park|     01|    A-01-04|             Gray|                  White|       NULL|Ground Plane|                         NULL|             NULL|             Running|             Indifferent|                         NULL|                      40.859418|\n",
      "|UPPER MANHATTAN|      A|    Fort Tryon Park|     01|    A-01-05|             Gray|               Cinnamon|       NULL|Ground Plane|                         NULL|             NULL|     Running, Eating|             Indifferent|                She left food|                      40.859493|\n",
      "|UPPER MANHATTAN|      A|    Fort Tryon Park|     01|    A-01-06|             Gray|               Cinnamon|       NULL|Ground Plane|                         NULL|             NULL|            Climbing|             Indifferent|                         NULL|                      40.860825|\n",
      "|UPPER MANHATTAN|      A|    Fort Tryon Park|     01|    A-01-07|             Gray|                  White|       NULL|Ground Plane|                         NULL|             NULL|            Foraging|             Indifferent|                         NULL|                      40.860225|\n",
      "|UPPER MANHATTAN|      A|    Fort Tryon Park|     01|    A-01-08|            Black|                   Gray|       NULL|Above Ground|                           10|             NULL|            Climbing|               Runs From|                         NULL|                      40.859965|\n",
      "|UPPER MANHATTAN|      A|    Fort Tryon Park|     01|    A-01-09|             Gray|                  White|       NULL|Ground Plane|                         NULL|             NULL|            Foraging|             Indifferent|                         NULL|                      40.859892|\n",
      "|UPPER MANHATTAN|      A|    Fort Tryon Park|     01|    A-01-10|             Gray|                  White|       NULL|Ground Plane|                         NULL|             NULL|     Eating, Digging|             Indifferent|                         NULL|                      40.859636|\n",
      "|UPPER MANHATTAN|      A|    Fort Tryon Park|     01|    A-01-11|             Gray|                  Black|       NULL|Ground Plane|                         NULL|             NULL|     Eating, Digging|             Indifferent|         was intimidated b...|                      40.859576|\n",
      "|UPPER MANHATTAN|      A|    Fort Tryon Park|     01|    A-01-12|             Gray|                  White|       NULL|Ground Plane|                         NULL|             NULL|             Running|               Runs From|                         NULL|                      40.859989|\n",
      "|UPPER MANHATTAN|      A|J. Hood Wright Park|     02|    A-02-01|             Gray|                   Gray|       NULL|Ground Plane|                         NULL|             NULL|             Running|             Indifferent|                         NULL|                      40.845749|\n",
      "|UPPER MANHATTAN|      A|J. Hood Wright Park|     02|    A-02-02|             Gray|               Cinnamon|       NULL|Above Ground|                            2|             NULL|            Foraging|             Indifferent|                         NULL|                      40.845875|\n",
      "|UPPER MANHATTAN|      A|J. Hood Wright Park|     02|    A-02-03|             Gray|               Cinnamon|       NULL|Ground Plane|                         NULL|             NULL|            Foraging|                    NULL|                         NULL|                      40.845875|\n",
      "|UPPER MANHATTAN|      A|J. Hood Wright Park|     02|    A-02-04|             Gray|               Cinnamon|       NULL|Ground Plane|                         NULL|             NULL|             Running|             Indifferent|                         NULL|                      40.846088|\n",
      "|UPPER MANHATTAN|      A|J. Hood Wright Park|     02|    A-02-05|             Gray|               Cinnamon|       NULL|Ground Plane|                         NULL|             NULL|             Running|               Runs From|                         NULL|                      40.846088|\n",
      "|UPPER MANHATTAN|      A|J. Hood Wright Park|     02|    A-02-06|             Gray|               Cinnamon|       NULL|Ground Plane|                         NULL|             NULL|            Foraging|             Indifferent|                         NULL|                      40.846088|\n",
      "|UPPER MANHATTAN|      A|J. Hood Wright Park|     02|    A-02-07|             Gray|                   Gray|       NULL|Ground Plane|                         NULL|             NULL|                NULL|               Runs From|                         NULL|                      40.846222|\n",
      "|UPPER MANHATTAN|      A|J. Hood Wright Park|     02|    A-02-08|             Gray|               Cinnamon|       NULL|Ground Plane|                         NULL|             NULL|Foraging, Nesting...|             Indifferent|                         NULL|                      40.846222|\n",
      "+---------------+-------+-------------------+-------+-----------+-----------------+-----------------------+-----------+------------+-----------------------------+-----------------+--------------------+------------------------+-----------------------------+-------------------------------+\n",
      "only showing top 20 rows\n",
      "\n",
      "+-----------------+-------+--------------------+-------+------+----------+----------+-------------------------------------+--------------------+----------------------+--------------------+--------------------+---------------------+-------------------+-------------------+------------------+\n",
      "|        Area Name|Area ID|           Park Name|Park ID|  Date|Start Time|  End Time|Total Time (in minutes, if available)|     Park Conditions|Other Animal Sightings|              Litter|          Activities|Temperature & Weather|Number of Squirrels|Squirrel Sighter(s)|Number of Sighters|\n",
      "+-----------------+-------+--------------------+-------+------+----------+----------+-------------------------------------+--------------------+----------------------+--------------------+--------------------+---------------------+-------------------+-------------------+------------------+\n",
      "|  UPPER MANHATTAN|      A|     Fort Tryon Park|     01|3/1/20|3:14:00 PM|4:05:00 PM|                                   51|                Busy|  Humans, Dogs, Pig...|                Some|   43 degrees, sunny|                   12|               NULL|                  4|              NULL|\n",
      "|  UPPER MANHATTAN|      A| J. Hood Wright Park|     02|3/1/20|3:30:00 PM|4:00:00 PM|                                   30|                Calm|  Humans, Hawks, Do...|      Some, in trees|         cold, clear|                   24|               NULL|                  2|              NULL|\n",
      "|  UPPER MANHATTAN|      A|     Highbridge Park|     03|3/1/20|3:21:00 PM|4:15:00 PM|                                   54|Calm, pick-up bas...|  Humans, Dogs (3, ...|Some, especially ...|          43 degrees|                   16|               NULL|                  3|              NULL|\n",
      "|  UPPER MANHATTAN|      A|   St. Nicholas Park|     04|3/1/20|3:15:00 PM|3:45:00 PM|                                   30|                Calm|          Humans, Dogs|Some, backside of...|   43 degrees, clear|                   15|               NULL|                  3|              NULL|\n",
      "|  UPPER MANHATTAN|      A|Riverside Park (s...|     05|3/1/20|3:15:00 PM|3:45:00 PM|                                   30|                Calm|          Humans, Dogs|                NULL|                NULL|                   28|               NULL|                  3|              NULL|\n",
      "|  UPPER MANHATTAN|      A|  Marcus Garvey Park|     06|3/1/20|3:45:00 PM|4:15:00 PM|                                   30|Calm, re: humans,...|  Hawks, Dogs, Pigeons|            Abundant|   42 degrees, clear|                   34|                 16|                  1|              NULL|\n",
      "|CENTRAL MANHATTAN|      B| Madison Square Park|     07|3/1/20|2:30:00 PM|3:50:00 PM|                                   80|                Busy|  Humans, Dogs, Pig...|                NULL|   43 degrees, sunny|                   11|               NULL|                  4|              NULL|\n",
      "|CENTRAL MANHATTAN|      B|   Union Square Park|     08|3/1/20|3:15:00 PM|3:45:00 PM|                                   30|                Busy|  Humans, Dogs, Pig...|                NULL|   40 degrees, sunny|                   16|               NULL|                  4|              NULL|\n",
      "|CENTRAL MANHATTAN|      B|Stuyvesant Square...|     09|3/1/20|3:00:00 PM|4:00:00 PM|                                   60|Calm, 20���30 ppl...|  Humans, Dogs, Spa...|                Some|   45 degrees, sunny|                   25|               NULL|                  2|              NULL|\n",
      "|CENTRAL MANHATTAN|      B|Washington Square...|     10|3/1/20|3:20:00 PM|4:00:00 PM|                                   40|                Busy|          Humans, Dogs|                None|45 degrees, sunny...|                   51|               NULL|                  2|              NULL|\n",
      "|CENTRAL MANHATTAN|      B|Tompkins Square Park|     11|3/1/20|3:15:00 PM|3:45:00 PM|                                   30|                NULL|                  NULL|                NULL|                NULL|                   59|               NULL|                  2|              NULL|\n",
      "|CENTRAL MANHATTAN|      B|John V. Lindsay E...|     12|3/1/20|3:01:00 PM|3:45:00 PM|                                   44|                Calm|  Humans (Joggers, ...|                NULL|        windy, clear|                   12|                 31|                  1|              NULL|\n",
      "|  LOWER MANHATTAN|      C|Sara D. Roosevelt...|   13.1|3/1/20|3:30:00 PM|4:00:00 PM|                                   30|                Busy|   Humans, Dogs (Gray)|                Some|   44 degrees, sunny|                    0|               NULL|                  3|              NULL|\n",
      "|  LOWER MANHATTAN|      C|Sara D. Roosevelt...|   13.2|3/1/20|3:30:00 PM|4:00:00 PM|                                   30|                Busy|       Humans, Pigeons|                Some|   43 degrees, sunny|                    0|               NULL|                  3|              NULL|\n",
      "|  LOWER MANHATTAN|      C|         Seward Park|     14|3/1/20|3:25:00 PM|3:55:00 PM|                                   30|                Busy|       Humans, Pigeons|                Some|   40 degrees, sunny|                    7|               NULL|                  4|              NULL|\n",
      "|  LOWER MANHATTAN|      C|  Corlears Hook Park|     15|3/1/20|3:35:00 PM|4:15:00 PM|                                   40|                Calm|  Humans, Dogs, Pig...|Some, mostly in t...|   48 degrees, sunny|                   16|               NULL|                  3|              NULL|\n",
      "|  LOWER MANHATTAN|      C|       Columbus Park|     16|3/1/20|3:47:00 PM|4:38:00 PM|                                   51|                Busy|  Humans, Dogs, Pig...|                None|42 degrees, windy...|                    4|               NULL|                  2|              NULL|\n",
      "|  LOWER MANHATTAN|      C|   Thomas Paine Park|     17|3/1/20|3:35:00 PM|3:45:00 PM|                                   10|                Calm|  Humans, Dogs, Pig...|                None|42 degrees, windy...|                    0|               NULL|                  2|              NULL|\n",
      "|  LOWER MANHATTAN|      C|       Teardrop Park|     18|3/1/20|3:37:00 PM|4:00:00 PM|                                   23|                NULL|  Humans, Dogs, Fis...|                Some|43 degrees, sunny...|                    1|               NULL|                  2|              NULL|\n",
      "|  LOWER MANHATTAN|      C|      City Hall Park|     19|3/1/20|3:34:00 PM|4:04:00 PM|                                   30|                Calm|  Humans, Pigeons, Cat|                None|   44 degrees, sunny|                   18|               NULL|                  2|              NULL|\n",
      "+-----------------+-------+--------------------+-------+------+----------+----------+-------------------------------------+--------------------+----------------------+--------------------+--------------------+---------------------+-------------------+-------------------+------------------+\n",
      "only showing top 20 rows\n",
      "\n",
      "+-------+-----------------+------------------+---------+\n",
      "|Area ID|        Area Name|  Area Description|City Name|\n",
      "+-------+-----------------+------------------+---------+\n",
      "|      A|  UPPER MANHATTAN|  Uptown Manhattan| New York|\n",
      "|      B|CENTRAL MANHATTAN| Midtown Manhattan| New York|\n",
      "|      C|  LOWER MANHATTAN|Downtown Manhattan| New York|\n",
      "|      D|         BROOKLYN|          Brooklyn| New York|\n",
      "+-------+-----------------+------------------+---------+\n",
      "\n"
     ]
    }
   ],
   "source": [
    "# show data\n",
    "squirrel.show()\n",
    "park.show()\n",
    "area.show()"
   ]
  },
  {
   "cell_type": "code",
   "execution_count": null,
   "metadata": {
    "id": "n5ERhhv1GT4o"
   },
   "outputs": [],
   "source": []
  },
  {
   "cell_type": "code",
   "execution_count": 4,
   "metadata": {
    "colab": {
     "base_uri": "https://localhost:8080/"
    },
    "id": "bZ6QSdeFKTVM",
    "outputId": "f5a03568-bd21-4444-a5da-753d49ab1c89"
   },
   "outputs": [
    {
     "name": "stdout",
     "output_type": "stream",
     "text": [
      "Requirement already satisfied: pytictoc in /usr/local/lib/python3.10/dist-packages (1.5.3)\n"
     ]
    }
   ],
   "source": [
    "!pip install pytictoc"
   ]
  },
  {
   "cell_type": "code",
   "execution_count": 12,
   "metadata": {
    "colab": {
     "base_uri": "https://localhost:8080/"
    },
    "id": "9yEpZwS_QtJ1",
    "outputId": "093ed3a4-adc4-4d92-e334-5ed55f1aa04c"
   },
   "outputs": [
    {
     "data": {
      "text/plain": [
       "False"
      ]
     },
     "execution_count": 12,
     "metadata": {},
     "output_type": "execute_result"
    }
   ],
   "source": [
    "squirrel.is_cached"
   ]
  },
  {
   "cell_type": "code",
   "execution_count": 13,
   "metadata": {
    "colab": {
     "base_uri": "https://localhost:8080/"
    },
    "id": "sdFM4yqSFlzb",
    "outputId": "82057615-682d-486b-c254-139d57cca2f1"
   },
   "outputs": [
    {
     "name": "stdout",
     "output_type": "stream",
     "text": [
      "Elapsed time is 80.533085 seconds.\n"
     ]
    }
   ],
   "source": [
    "# scenario 1\n",
    "# many transformations on the same dataframe\n",
    "\n",
    "import time\n",
    "from pytictoc import TicToc\n",
    "import uuid\n",
    "from pyspark.sql.functions import broadcast, udf\n",
    "\n",
    "t = TicToc()\n",
    "t.tic()\n",
    "\n",
    "@udf\n",
    "def generate_uuid():\n",
    "  return str(uuid.uuid4())\n",
    "\n",
    "squirrel = squirrel.dropDuplicates()\n",
    "squirrel = squirrel.withColumn(\"hash_id\", generate_uuid())\n",
    "\n",
    "squirrel.cache().count()\n",
    "\n",
    "join_df = (squirrel\n",
    "           .join(park, on=\"Park ID\", how=\"inner\")\n",
    "           .join(area, on=\"Area ID\", how=\"inner\")\n",
    "           .select(area[\"Area Description\"], park[\"Park Name\"], park[\"Date\"], squirrel[\"Squirrel ID\"])\n",
    "           )\n",
    "\n",
    "#join_df = join_df.distinct\n",
    "\n",
    "# join_df.explain(\"cost\")\n",
    "\n",
    "squirrel.count()\n",
    "\n",
    "t.toc()"
   ]
  },
  {
   "cell_type": "code",
   "execution_count": null,
   "metadata": {
    "id": "Tshz4hV3S2Tx"
   },
   "outputs": [],
   "source": []
  },
  {
   "cell_type": "code",
   "execution_count": 21,
   "metadata": {
    "colab": {
     "base_uri": "https://localhost:8080/"
    },
    "id": "ftW8PwI0H5iB",
    "outputId": "e8e71f95-cdf2-498d-d2d0-a9df149c5cdd"
   },
   "outputs": [
    {
     "data": {
      "text/plain": [
       "DataFrame[Area Name: string, Area ID: string, Park Name: string, Park ID: string, Squirrel ID: string, Primary Fur Color: string, Highlights in Fur Color: string, Color Notes: string, Location: string, Above Ground (Height in Feet): string, Specific Location: string, Activities: string, Interactions with Humans: string, Squirrel Latitude (DD.DDDDDD): string, Squirrel Longitude (-DD.DDDDDD): string]"
      ]
     },
     "execution_count": 21,
     "metadata": {},
     "output_type": "execute_result"
    }
   ],
   "source": [
    "#squirrel.unpersist()"
   ]
  },
  {
   "cell_type": "code",
   "execution_count": 8,
   "metadata": {
    "colab": {
     "base_uri": "https://localhost:8080/"
    },
    "id": "GsZVwINuHocR",
    "outputId": "b6e6f67e-6e7c-4e7e-f55b-899bd7e050c9"
   },
   "outputs": [
    {
     "data": {
      "text/plain": [
       "433"
      ]
     },
     "execution_count": 8,
     "metadata": {},
     "output_type": "execute_result"
    }
   ],
   "source": [
    "\n",
    "join_df = (squirrel\n",
    "           .join(park, on=\"Park ID\", how=\"inner\")\n",
    "           .join(area, on=\"Area ID\", how=\"inner\")\n",
    "           .select(area[\"Area Description\"], park[\"Park Name\"], park[\"Date\"], squirrel[\"Squirrel ID\"])\n",
    "           )\n",
    "\n",
    "join_df.count()"
   ]
  },
  {
   "cell_type": "code",
   "execution_count": 24,
   "metadata": {
    "colab": {
     "base_uri": "https://localhost:8080/"
    },
    "id": "56afQfhCHENe",
    "outputId": "758fae62-6ac7-409c-c3b3-fbb8c52258b5"
   },
   "outputs": [
    {
     "name": "stdout",
     "output_type": "stream",
     "text": [
      "== Optimized Logical Plan ==\n",
      "Project [Area Description#490, Park Name#458, Date#460, Squirrel ID#430], Statistics(sizeInBytes=2.97E+25 B)\n",
      "+- Join Inner, (Area ID#427 = Area ID#488), rightHint=(strategy=broadcast), Statistics(sizeInBytes=4.32E+25 B)\n",
      "   :- Project [Area ID#427, Squirrel ID#430, Park Name#458, Date#460], Statistics(sizeInBytes=8.2 MiB)\n",
      "   :  +- Join Inner, (Park ID#429 = Park ID#459), Statistics(sizeInBytes=11.9 MiB)\n",
      "   :     :- Project [Area ID#427, Park ID#429, Squirrel ID#430], Statistics(sizeInBytes=12.7 KiB)\n",
      "   :     :  +- Filter (isnotnull(Park ID#429) AND isnotnull(Area ID#427)), Statistics(sizeInBytes=57.7 KiB)\n",
      "   :     :     +- Relation [Area Name#426,Area ID#427,Park Name#428,Park ID#429,Squirrel ID#430,Primary Fur Color#431,Highlights in Fur Color#432,Color Notes#433,Location#434,Above Ground (Height in Feet)#435,Specific Location#436,Activities#437,Interactions with Humans#438,Squirrel Latitude (DD.DDDDDD)#439,Squirrel Longitude (-DD.DDDDDD)#440] csv, Statistics(sizeInBytes=57.7 KiB)\n",
      "   :     +- Project [Park Name#458, Park ID#459, Date#460], Statistics(sizeInBytes=957.0 B)\n",
      "   :        +- Filter isnotnull(Park ID#459), Statistics(sizeInBytes=4.1 KiB)\n",
      "   :           +- Relation [Area Name#456,Area ID#457,Park Name#458,Park ID#459,Date#460,Start Time#461,End Time#462,Total Time (in minutes, if available)#463,Park Conditions#464,Other Animal Sightings#465,Litter#466,Activities#467,Temperature & Weather#468,Number of Squirrels#469,Squirrel Sighter(s)#470,Number of Sighters#471] csv, Statistics(sizeInBytes=4.1 KiB)\n",
      "   +- Project [Area ID#488, Area Description#490], Statistics(sizeInBytes=4.4 EiB)\n",
      "      +- Filter isnotnull(Area ID#488), Statistics(sizeInBytes=8.0 EiB)\n",
      "         +- LogicalRDD [Area ID#488, Area Name#489, Area Description#490, City Name#491], false, Statistics(sizeInBytes=8.0 EiB)\n",
      "\n",
      "== Physical Plan ==\n",
      "AdaptiveSparkPlan isFinalPlan=false\n",
      "+- Project [Area Description#490, Park Name#458, Date#460, Squirrel ID#430]\n",
      "   +- BroadcastHashJoin [Area ID#427], [Area ID#488], Inner, BuildRight, false\n",
      "      :- Project [Area ID#427, Squirrel ID#430, Park Name#458, Date#460]\n",
      "      :  +- BroadcastHashJoin [Park ID#429], [Park ID#459], Inner, BuildRight, false\n",
      "      :     :- Filter (isnotnull(Park ID#429) AND isnotnull(Area ID#427))\n",
      "      :     :  +- FileScan csv [Area ID#427,Park ID#429,Squirrel ID#430] Batched: false, DataFilters: [isnotnull(Park ID#429), isnotnull(Area ID#427)], Format: CSV, Location: InMemoryFileIndex(1 paths)[file:/tmp/spark-3ea7c3d5-0ce0-4277-ad98-04bab8d13709/userFiles-c42ef1a..., PartitionFilters: [], PushedFilters: [IsNotNull(Park ID), IsNotNull(Area ID)], ReadSchema: struct<Area ID:string,Park ID:string,Squirrel ID:string>\n",
      "      :     +- BroadcastExchange HashedRelationBroadcastMode(List(input[1, string, false]),false), [plan_id=1149]\n",
      "      :        +- Filter isnotnull(Park ID#459)\n",
      "      :           +- FileScan csv [Park Name#458,Park ID#459,Date#460] Batched: false, DataFilters: [isnotnull(Park ID#459)], Format: CSV, Location: InMemoryFileIndex(1 paths)[file:/tmp/spark-3ea7c3d5-0ce0-4277-ad98-04bab8d13709/userFiles-c42ef1a..., PartitionFilters: [], PushedFilters: [IsNotNull(Park ID)], ReadSchema: struct<Park Name:string,Park ID:string,Date:string>\n",
      "      +- BroadcastExchange HashedRelationBroadcastMode(List(input[0, string, true]),false), [plan_id=1153]\n",
      "         +- Project [Area ID#488, Area Description#490]\n",
      "            +- Filter isnotnull(Area ID#488)\n",
      "               +- Scan ExistingRDD[Area ID#488,Area Name#489,Area Description#490,City Name#491]\n",
      "\n",
      "\n"
     ]
    }
   ],
   "source": [
    "from pyspark.sql.functions import broadcast\n",
    "\n",
    "join_df = (squirrel\n",
    "           .join(park, on=\"Park ID\", how=\"inner\")\n",
    "           .join(broadcast(area), on=\"Area ID\", how=\"inner\")\n",
    "           .select(area[\"Area Description\"], park[\"Park Name\"], park[\"Date\"], squirrel[\"Squirrel ID\"])\n",
    "           )\n",
    "\n",
    "join_df.explain(\"cost\")"
   ]
  },
  {
   "cell_type": "code",
   "execution_count": null,
   "metadata": {
    "id": "hDuNsXVfFuvD"
   },
   "outputs": [],
   "source": []
  }
 ],
 "metadata": {
  "colab": {
   "include_colab_link": true,
   "provenance": []
  },
  "kernelspec": {
   "display_name": "Python 3",
   "name": "python3"
  },
  "language_info": {
   "name": "python"
  }
 },
 "nbformat": 4,
 "nbformat_minor": 0
}

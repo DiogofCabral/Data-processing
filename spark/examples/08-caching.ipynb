{
  "cells": [
    {
      "cell_type": "markdown",
      "metadata": {
        "id": "view-in-github",
        "colab_type": "text"
      },
      "source": [
        "<a href=\"https://colab.research.google.com/github/lucprosa/dataeng-basic-course/blob/main/spark/examples/08-caching.ipynb\" target=\"_parent\"><img src=\"https://colab.research.google.com/assets/colab-badge.svg\" alt=\"Open In Colab\"/></a>"
      ]
    },
    {
      "cell_type": "markdown",
      "metadata": {
        "id": "hyDay-zKVX3g"
      },
      "source": [
        "<a href=\"https://colab.research.google.com/github/lucprosa/dataeng-basic-course/blob/main/spark/examples/08-caching.ipynb\" target=\"_parent\"><img src=\"https://colab.research.google.com/assets/colab-badge.svg\" alt=\"Open In Colab\"/></a>"
      ]
    },
    {
      "cell_type": "markdown",
      "metadata": {
        "id": "BOA_wQSmLd9z"
      },
      "source": [
        "# Performance tricks\n",
        "- cache() & persist()\n",
        "- broadcast join\n",
        "- repartition & coalesce\n",
        "- explain"
      ]
    },
    {
      "cell_type": "markdown",
      "metadata": {
        "id": "d9LeYFsPTjAb"
      },
      "source": [
        "# Setting up PySpark"
      ]
    },
    {
      "cell_type": "code",
      "execution_count": null,
      "metadata": {
        "colab": {
          "base_uri": "https://localhost:8080/"
        },
        "id": "uYXeODL0T1fO",
        "outputId": "c410e46c-4a50-43aa-926f-d0417c6280d2"
      },
      "outputs": [
        {
          "name": "stdout",
          "output_type": "stream",
          "text": [
            "Requirement already satisfied: pyspark in /usr/local/lib/python3.10/dist-packages (3.5.3)\n",
            "Requirement already satisfied: py4j==0.10.9.7 in /usr/local/lib/python3.10/dist-packages (from pyspark) (0.10.9.7)\n"
          ]
        }
      ],
      "source": [
        "%pip install pyspark"
      ]
    },
    {
      "cell_type": "code",
      "execution_count": 2,
      "metadata": {
        "id": "637HFw00T3LP"
      },
      "outputs": [],
      "source": [
        "from pyspark.sql import SparkSession\n",
        "spark = SparkSession.builder.master('local').appName('Spark Course').config('spark.ui.port', '4050').getOrCreate()"
      ]
    },
    {
      "cell_type": "markdown",
      "metadata": {
        "id": "Vj3Cg2riVX3m"
      },
      "source": [
        "# Preparing data"
      ]
    },
    {
      "cell_type": "code",
      "execution_count": 18,
      "metadata": {
        "id": "z-caHS2MVX3m"
      },
      "outputs": [],
      "source": [
        "from pyspark import SparkFiles\n",
        "from pyspark.sql.types import *\n",
        "\n",
        "# Setting up URLs\n",
        "squirrel_url = \"https://raw.githubusercontent.com/lucprosa/dataeng-basic-course/main/data/squirrel-data/squirrel-data.csv\"\n",
        "park_url = \"https://raw.githubusercontent.com/lucprosa/dataeng-basic-course/main/data/squirrel-data/park-data.csv\"\n",
        "\n",
        "\n",
        "# Defining schemas\n",
        "squirrel_schema = StructType([\n",
        "StructField('Area Name',StringType(),True),\n",
        "StructField('Area ID',StringType(),True),\n",
        "StructField('Park Name',StringType(),True),\n",
        "StructField('Park ID', StringType(), True),\n",
        "StructField('Squirrel ID', StringType(), True),\n",
        "StructField('Primary Fur Color', StringType(), True),\n",
        "StructField('Highlights in Fur Color', StringType(), True),\n",
        "StructField('Color Notes', StringType(), True),\n",
        "StructField('Location', StringType(), True),\n",
        "StructField('Above Ground (Height in Feet)', StringType(), True),\n",
        "StructField('Specific Location', StringType(), True),\n",
        "StructField('Activities', StringType(), True),\n",
        "StructField('Interactions with Humans', StringType(), True),\n",
        "StructField('Squirrel Latitude (DD.DDDDDD)', StringType(), True),\n",
        "StructField('Squirrel Longitude (-DD.DDDDDD)', StringType(), True)\n",
        "])\n",
        "\n",
        "park_schema = StructType([\n",
        "StructField('Area Name',StringType(),True),\n",
        "StructField('Area ID',StringType(),True),\n",
        "StructField('Park Name',StringType(),True),\n",
        "StructField('Park ID', StringType(), True),\n",
        "StructField('Date', DateType(), True),\n",
        "StructField('Start Time', StringType(), True),\n",
        "StructField('End Time', StringType(), True),\n",
        "StructField('Total Time (in minutes, if available)', StringType(), True),\n",
        "StructField('Park Conditions', StringType(), True),\n",
        "StructField('Other Animal Sightings', StringType(), True),\n",
        "StructField('Litter', StringType(), True),\n",
        "StructField('Activities', StringType(), True),\n",
        "StructField('Temperature & Weather', StringType(), True),\n",
        "StructField('Number of Squirrels', IntegerType(), True),\n",
        "StructField('Squirrel Sighter(s)', StringType(), True),\n",
        "StructField('Number of Sighters', IntegerType(), True)\n",
        "])\n",
        "\n",
        "area_schema = StructType([\n",
        "StructField('Area Name',StringType(),True),\n",
        "StructField('Area ID',StringType(),True),\n",
        "\n",
        "])\n",
        "\n",
        "\n",
        "spark.sparkContext.addFile(squirrel_url)\n",
        "spark.sparkContext.addFile(park_url)\n",
        "\n",
        "squirrel = spark.read.csv(SparkFiles.get(\"squirrel-data.csv\"), header=True, schema=squirrel_schema)\n",
        "park = spark.read.csv(SparkFiles.get(\"park-data.csv\"), header=True, schema=park_schema)"
      ]
    },
    {
      "cell_type": "code",
      "source": [
        "squirrel.select(\"Area ID\").distinct().show()"
      ],
      "metadata": {
        "id": "e1jkoWpweDqW",
        "outputId": "b25094a6-6296-411a-b16a-ab8ef5673dc9",
        "colab": {
          "base_uri": "https://localhost:8080/"
        }
      },
      "execution_count": 22,
      "outputs": [
        {
          "output_type": "stream",
          "name": "stdout",
          "text": [
            "+-------+\n",
            "|Area ID|\n",
            "+-------+\n",
            "|      B|\n",
            "|      D|\n",
            "|      C|\n",
            "|      A|\n",
            "+-------+\n",
            "\n"
          ]
        }
      ]
    },
    {
      "cell_type": "code",
      "source": [
        "park.show()"
      ],
      "metadata": {
        "id": "O22vgwggZf5c",
        "outputId": "dd0c203f-c635-4371-ae03-83cfdbf678fa",
        "colab": {
          "base_uri": "https://localhost:8080/"
        }
      },
      "execution_count": 19,
      "outputs": [
        {
          "output_type": "stream",
          "name": "stdout",
          "text": [
            "+-----------------+-------+--------------------+-------+----+----------+----------+-------------------------------------+--------------------+----------------------+--------------------+--------------------+---------------------+-------------------+-------------------+------------------+\n",
            "|        Area Name|Area ID|           Park Name|Park ID|Date|Start Time|  End Time|Total Time (in minutes, if available)|     Park Conditions|Other Animal Sightings|              Litter|          Activities|Temperature & Weather|Number of Squirrels|Squirrel Sighter(s)|Number of Sighters|\n",
            "+-----------------+-------+--------------------+-------+----+----------+----------+-------------------------------------+--------------------+----------------------+--------------------+--------------------+---------------------+-------------------+-------------------+------------------+\n",
            "|  UPPER MANHATTAN|      A|     Fort Tryon Park|     01|NULL|3:14:00 PM|4:05:00 PM|                                   51|                Busy|  Humans, Dogs, Pig...|                Some|   43 degrees, sunny|                   12|               NULL|                  4|              NULL|\n",
            "|  UPPER MANHATTAN|      A| J. Hood Wright Park|     02|NULL|3:30:00 PM|4:00:00 PM|                                   30|                Calm|  Humans, Hawks, Do...|      Some, in trees|         cold, clear|                   24|               NULL|                  2|              NULL|\n",
            "|  UPPER MANHATTAN|      A|     Highbridge Park|     03|NULL|3:21:00 PM|4:15:00 PM|                                   54|Calm, pick-up bas...|  Humans, Dogs (3, ...|Some, especially ...|          43 degrees|                   16|               NULL|                  3|              NULL|\n",
            "|  UPPER MANHATTAN|      A|   St. Nicholas Park|     04|NULL|3:15:00 PM|3:45:00 PM|                                   30|                Calm|          Humans, Dogs|Some, backside of...|   43 degrees, clear|                   15|               NULL|                  3|              NULL|\n",
            "|  UPPER MANHATTAN|      A|Riverside Park (s...|     05|NULL|3:15:00 PM|3:45:00 PM|                                   30|                Calm|          Humans, Dogs|                NULL|                NULL|                   28|               NULL|                  3|              NULL|\n",
            "|  UPPER MANHATTAN|      A|  Marcus Garvey Park|     06|NULL|3:45:00 PM|4:15:00 PM|                                   30|Calm, re: humans,...|  Hawks, Dogs, Pigeons|            Abundant|   42 degrees, clear|                   34|                 16|                  1|              NULL|\n",
            "|CENTRAL MANHATTAN|      B| Madison Square Park|     07|NULL|2:30:00 PM|3:50:00 PM|                                   80|                Busy|  Humans, Dogs, Pig...|                NULL|   43 degrees, sunny|                   11|               NULL|                  4|              NULL|\n",
            "|CENTRAL MANHATTAN|      B|   Union Square Park|     08|NULL|3:15:00 PM|3:45:00 PM|                                   30|                Busy|  Humans, Dogs, Pig...|                NULL|   40 degrees, sunny|                   16|               NULL|                  4|              NULL|\n",
            "|CENTRAL MANHATTAN|      B|Stuyvesant Square...|     09|NULL|3:00:00 PM|4:00:00 PM|                                   60|Calm, 20���30 ppl...|  Humans, Dogs, Spa...|                Some|   45 degrees, sunny|                   25|               NULL|                  2|              NULL|\n",
            "|CENTRAL MANHATTAN|      B|Washington Square...|     10|NULL|3:20:00 PM|4:00:00 PM|                                   40|                Busy|          Humans, Dogs|                None|45 degrees, sunny...|                   51|               NULL|                  2|              NULL|\n",
            "|CENTRAL MANHATTAN|      B|Tompkins Square Park|     11|NULL|3:15:00 PM|3:45:00 PM|                                   30|                NULL|                  NULL|                NULL|                NULL|                   59|               NULL|                  2|              NULL|\n",
            "|CENTRAL MANHATTAN|      B|John V. Lindsay E...|     12|NULL|3:01:00 PM|3:45:00 PM|                                   44|                Calm|  Humans (Joggers, ...|                NULL|        windy, clear|                   12|                 31|                  1|              NULL|\n",
            "|  LOWER MANHATTAN|      C|Sara D. Roosevelt...|   13.1|NULL|3:30:00 PM|4:00:00 PM|                                   30|                Busy|   Humans, Dogs (Gray)|                Some|   44 degrees, sunny|                    0|               NULL|                  3|              NULL|\n",
            "|  LOWER MANHATTAN|      C|Sara D. Roosevelt...|   13.2|NULL|3:30:00 PM|4:00:00 PM|                                   30|                Busy|       Humans, Pigeons|                Some|   43 degrees, sunny|                    0|               NULL|                  3|              NULL|\n",
            "|  LOWER MANHATTAN|      C|         Seward Park|     14|NULL|3:25:00 PM|3:55:00 PM|                                   30|                Busy|       Humans, Pigeons|                Some|   40 degrees, sunny|                    7|               NULL|                  4|              NULL|\n",
            "|  LOWER MANHATTAN|      C|  Corlears Hook Park|     15|NULL|3:35:00 PM|4:15:00 PM|                                   40|                Calm|  Humans, Dogs, Pig...|Some, mostly in t...|   48 degrees, sunny|                   16|               NULL|                  3|              NULL|\n",
            "|  LOWER MANHATTAN|      C|       Columbus Park|     16|NULL|3:47:00 PM|4:38:00 PM|                                   51|                Busy|  Humans, Dogs, Pig...|                None|42 degrees, windy...|                    4|               NULL|                  2|              NULL|\n",
            "|  LOWER MANHATTAN|      C|   Thomas Paine Park|     17|NULL|3:35:00 PM|3:45:00 PM|                                   10|                Calm|  Humans, Dogs, Pig...|                None|42 degrees, windy...|                    0|               NULL|                  2|              NULL|\n",
            "|  LOWER MANHATTAN|      C|       Teardrop Park|     18|NULL|3:37:00 PM|4:00:00 PM|                                   23|                NULL|  Humans, Dogs, Fis...|                Some|43 degrees, sunny...|                    1|               NULL|                  2|              NULL|\n",
            "|  LOWER MANHATTAN|      C|      City Hall Park|     19|NULL|3:34:00 PM|4:04:00 PM|                                   30|                Calm|  Humans, Pigeons, Cat|                None|   44 degrees, sunny|                   18|               NULL|                  2|              NULL|\n",
            "+-----------------+-------+--------------------+-------+----+----------+----------+-------------------------------------+--------------------+----------------------+--------------------+--------------------+---------------------+-------------------+-------------------+------------------+\n",
            "only showing top 20 rows\n",
            "\n"
          ]
        }
      ]
    },
    {
      "cell_type": "code",
      "source": [],
      "metadata": {
        "id": "Dp1PnbWsZsLt"
      },
      "execution_count": null,
      "outputs": []
    }
  ],
  "metadata": {
    "colab": {
      "provenance": [],
      "include_colab_link": true
    },
    "kernelspec": {
      "display_name": "Python 3",
      "name": "python3"
    },
    "language_info": {
      "name": "python"
    }
  },
  "nbformat": 4,
  "nbformat_minor": 0
}
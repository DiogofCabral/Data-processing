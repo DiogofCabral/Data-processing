{
  "cells": [
    {
      "cell_type": "markdown",
      "metadata": {
        "colab_type": "text",
        "id": "view-in-github"
      },
      "source": [
        "<a href=\"https://colab.research.google.com/github/lucprosa/dataeng-basic-course/blob/main/spark_streaming/usecase1/script.ipynb\" target=\"_parent\"><img src=\"https://colab.research.google.com/assets/colab-badge.svg\" alt=\"Open In Colab\"/></a>"
      ]
    },
    {
      "cell_type": "markdown",
      "metadata": {
        "id": "4_GBE9UsyxwK"
      },
      "source": []
    },
    {
      "cell_type": "markdown",
      "metadata": {
        "id": "QBUTFW0NTs-T"
      },
      "source": [
        "# Usecase 1\n",
        "## Reading CSV data from input folder \n",
        "## Checking results from query in memory"
      ]
    },
    {
      "cell_type": "markdown",
      "metadata": {
        "id": "5mF8uA5hyuYE"
      },
      "source": [
        "https://medium.com/@ashwindesilva/how-to-use-google-colaboratory-to-clone-a-github-repository-e07cf8d3d22b\n",
        "\n",
        "https://github.com/lucprosa/dataeng-basic-course"
      ]
    },
    {
      "cell_type": "code",
      "execution_count": 1,
      "metadata": {
        "colab": {
          "base_uri": "https://localhost:8080/"
        },
        "id": "3p2vImyKt0x3",
        "outputId": "1715aabd-d139-4241-a1ac-1e0063917b73"
      },
      "outputs": [
        {
          "name": "stdout",
          "output_type": "stream",
          "text": [
            "Mounted at /collab/\n"
          ]
        }
      ],
      "source": [
        "from google.colab import drive\n",
        "drive.mount('/collab/')"
      ]
    },
    {
      "cell_type": "code",
      "execution_count": 2,
      "metadata": {
        "colab": {
          "base_uri": "https://localhost:8080/"
        },
        "id": "3Z_Exc3bvxyd",
        "outputId": "2be758ae-232c-47bd-e725-1ed4d8eda4d5"
      },
      "outputs": [
        {
          "name": "stdout",
          "output_type": "stream",
          "text": [
            "/collab/MyDrive/Collab/repos\n"
          ]
        }
      ],
      "source": [
        "%cd /collab/MyDrive/Collab/repos/"
      ]
    },
    {
      "cell_type": "code",
      "execution_count": 3,
      "metadata": {
        "colab": {
          "base_uri": "https://localhost:8080/"
        },
        "id": "DuQlhuRvwLKS",
        "outputId": "31b9cd74-f9ea-44ad-aa12-3fce3bdb0eda"
      },
      "outputs": [
        {
          "name": "stdout",
          "output_type": "stream",
          "text": [
            "Cloning into 'dataeng-basic-course'...\n",
            "remote: Enumerating objects: 43, done.\u001b[K\n",
            "remote: Counting objects: 100% (43/43), done.\u001b[K\n",
            "remote: Compressing objects: 100% (25/25), done.\u001b[K\n",
            "remote: Total 43 (delta 10), reused 31 (delta 6), pack-reused 0 (from 0)\u001b[K\n",
            "Receiving objects: 100% (43/43), 9.56 KiB | 699.00 KiB/s, done.\n",
            "Resolving deltas: 100% (10/10), done.\n"
          ]
        }
      ],
      "source": [
        "! git clone https://github.com/lucprosa/dataeng-basic-course.git"
      ]
    },
    {
      "cell_type": "code",
      "execution_count": 4,
      "metadata": {
        "id": "i5JiaokGTDV7"
      },
      "outputs": [],
      "source": [
        "! cd /content/\n",
        "! mkdir /content/files\n",
        "! mkdir /content/input\n",
        "! mkdir /content/output\n",
        "! cp /collab/MyDrive/Collab/repos/dataeng-basic-course/spark_streaming/usecase1/source/* /content/files"
      ]
    },
    {
      "cell_type": "markdown",
      "metadata": {
        "id": "d9LeYFsPTjAb"
      },
      "source": [
        "# Setting up PySpark"
      ]
    },
    {
      "cell_type": "code",
      "execution_count": 5,
      "metadata": {
        "colab": {
          "base_uri": "https://localhost:8080/"
        },
        "id": "uYXeODL0T1fO",
        "outputId": "c410e46c-4a50-43aa-926f-d0417c6280d2"
      },
      "outputs": [
        {
          "name": "stdout",
          "output_type": "stream",
          "text": [
            "Requirement already satisfied: pyspark in /usr/local/lib/python3.10/dist-packages (3.5.3)\n",
            "Requirement already satisfied: py4j==0.10.9.7 in /usr/local/lib/python3.10/dist-packages (from pyspark) (0.10.9.7)\n"
          ]
        }
      ],
      "source": [
        "%pip install pyspark"
      ]
    },
    {
      "cell_type": "code",
      "execution_count": 6,
      "metadata": {
        "id": "637HFw00T3LP"
      },
      "outputs": [],
      "source": [
        "from pyspark.sql import SparkSession\n",
        "\n",
        "spark = SparkSession.builder.master('local').appName('Test streaming').config('spark.ui.port', '4050').getOrCreate()"
      ]
    },
    {
      "cell_type": "markdown",
      "metadata": {
        "id": "WJr9P--oUl9N"
      },
      "source": [
        "# Read CSVs as streaming"
      ]
    },
    {
      "cell_type": "code",
      "execution_count": 7,
      "metadata": {
        "id": "Yw-NGVPsT-0M"
      },
      "outputs": [],
      "source": [
        "from pyspark.sql.types import *\n",
        "schema = StructType([\n",
        "StructField('timestamp',TimestampType(),True),\n",
        "StructField('person_ID',IntegerType(),True),\n",
        "StructField('name',StringType(),True),\n",
        "StructField('first',StringType(),True),\n",
        "StructField('last', StringType(), True),\n",
        "StructField('middle', StringType(), True),\n",
        "StructField('email', StringType(), True),\n",
        "StructField('phone', StringType(), True),\n",
        "StructField('fax', StringType(), True),\n",
        "StructField('title', StringType(), True)])"
      ]
    },
    {
      "cell_type": "code",
      "execution_count": null,
      "metadata": {
        "id": "Gck3fKOxW7BM"
      },
      "outputs": [],
      "source": [
        "! rm -rf /content/checkpoint"
      ]
    },
    {
      "cell_type": "code",
      "execution_count": null,
      "metadata": {
        "id": "aQuwtLOWUqGa"
      },
      "outputs": [],
      "source": [
        "stream1 = spark.readStream.format('csv').schema(schema).option('header', True).load('/content/input')"
      ]
    },
    {
      "cell_type": "code",
      "execution_count": 17,
      "metadata": {
        "colab": {
          "base_uri": "https://localhost:8080/"
        },
        "id": "vHbmtH6hUwaX",
        "outputId": "57011ebc-2dd8-45be-84e8-161ab203e8ec"
      },
      "outputs": [
        {
          "name": "stdout",
          "output_type": "stream",
          "text": [
            "True\n"
          ]
        }
      ],
      "source": [
        "print(stream1.isStreaming)"
      ]
    },
    {
      "cell_type": "code",
      "execution_count": null,
      "metadata": {
        "id": "FRJPIHmrUyJV"
      },
      "outputs": [],
      "source": [
        "query = (stream1.writeStream\n",
        ".format('memory')\n",
        ".queryName('my_query')\n",
        ".outputMode('append')\n",
        ".start()\n",
        ")"
      ]
    },
    {
      "cell_type": "code",
      "execution_count": null,
      "metadata": {
        "id": "mkqrNcOwVSWO"
      },
      "outputs": [],
      "source": [
        "spark.sql(\"select * from my_query\").show()"
      ]
    },
    {
      "cell_type": "code",
      "execution_count": null,
      "metadata": {
        "id": "lxEOqAOOVdFS"
      },
      "outputs": [],
      "source": [
        "query.stop()"
      ]
    },
    {
      "cell_type": "code",
      "execution_count": null,
      "metadata": {
        "id": "v180mzIciVZH"
      },
      "outputs": [],
      "source": [
        "# salvar em parquet , particionando por janela de 10 segundos\n",
        "\n",
        "\n"
      ]
    }
  ],
  "metadata": {
    "colab": {
      "include_colab_link": true,
      "provenance": []
    },
    "kernelspec": {
      "display_name": "Python 3",
      "name": "python3"
    },
    "language_info": {
      "name": "python"
    }
  },
  "nbformat": 4,
  "nbformat_minor": 0
}
